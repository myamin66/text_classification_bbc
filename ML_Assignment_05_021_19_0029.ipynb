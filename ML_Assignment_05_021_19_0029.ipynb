{
  "cells": [
    {
      "cell_type": "code",
      "execution_count": 2,
      "metadata": {
        "id": "jJ5V-phUlS0n",
        "outputId": "bdcc9acb-ae4f-4b47-ce3c-5315c0663b4a",
        "colab": {
          "base_uri": "https://localhost:8080/",
          "height": 36
        }
      },
      "outputs": [
        {
          "output_type": "execute_result",
          "data": {
            "text/plain": [
              "'2.8.0'"
            ],
            "application/vnd.google.colaboratory.intrinsic+json": {
              "type": "string"
            }
          },
          "metadata": {},
          "execution_count": 2
        }
      ],
      "source": [
        "import keras\n",
        "keras.__version__"
      ]
    },
    {
      "cell_type": "code",
      "execution_count": 3,
      "metadata": {
        "colab": {
          "base_uri": "https://localhost:8080/"
        },
        "id": "pLIad7ylMbCt",
        "outputId": "b94c93e2-f832-4999-d3b5-96b185d687d6"
      },
      "outputs": [
        {
          "output_type": "stream",
          "name": "stdout",
          "text": [
            "Mounted at /content/drive\n"
          ]
        }
      ],
      "source": [
        "from google.colab import drive\n",
        "drive.mount('/content/drive')"
      ]
    },
    {
      "cell_type": "code",
      "source": [
        "new_base_dir = '/content/drive/MyDrive/Colab Notebooks/datasets/bbc'"
      ],
      "metadata": {
        "id": "v8Tm2qNCiUvG"
      },
      "execution_count": 4,
      "outputs": []
    },
    {
      "cell_type": "markdown",
      "source": [
        "# preparing the training data"
      ],
      "metadata": {
        "id": "geIp8Pgyw_lw"
      }
    },
    {
      "cell_type": "code",
      "source": [
        "import os\n",
        "from gensim.parsing.preprocessing import remove_stopwords\n",
        "from string import digits\n",
        "import string\n",
        "\n",
        "\n",
        "remove_digits = str.maketrans('', '', digits)\n",
        "\n",
        "train_dir = os.path.join(new_base_dir, 'train')\n",
        "\n",
        "train_labels = []\n",
        "train_data = []\n",
        "\n",
        "for label_type in ['business', 'entertainment','politics', 'sport', 'tech']:\n",
        "    dir_name = os.path.join(train_dir, label_type)\n",
        "    for fname in os.listdir(dir_name):\n",
        "        if fname[-4:] == '.txt':       \n",
        "            f = open(os.path.join(dir_name, fname),encoding='latin1')     \n",
        "            a = remove_stopwords(f.read()) \n",
        "            a = a.translate(remove_digits) \n",
        "            a = a.translate(str.maketrans('', '', string.punctuation))\n",
        "            train_data.append(a)\n",
        "            f.close()\n",
        "            if label_type == 'business':\n",
        "                train_labels.append(0)\n",
        "            elif label_type == 'entertainment':\n",
        "                train_labels.append(1)\n",
        "            elif label_type == 'politics':\n",
        "                train_labels.append(2)\n",
        "            elif label_type == 'sport':\n",
        "                train_labels.append(3)    \n",
        "            else:\n",
        "                train_labels.append(4)"
      ],
      "metadata": {
        "id": "DvZRV1iEPdJe"
      },
      "execution_count": 5,
      "outputs": []
    },
    {
      "cell_type": "code",
      "source": [
        "len(train_data)"
      ],
      "metadata": {
        "colab": {
          "base_uri": "https://localhost:8080/"
        },
        "id": "b2uquREasdHL",
        "outputId": "8c9a8ea2-a2be-4c7c-b4f9-dad7737baedc"
      },
      "execution_count": 6,
      "outputs": [
        {
          "output_type": "execute_result",
          "data": {
            "text/plain": [
              "1725"
            ]
          },
          "metadata": {},
          "execution_count": 6
        }
      ]
    },
    {
      "cell_type": "code",
      "source": [
        "len(train_labels)"
      ],
      "metadata": {
        "colab": {
          "base_uri": "https://localhost:8080/"
        },
        "id": "hwxMRc7VsoE8",
        "outputId": "6299e750-0d79-434d-ec64-1cc3e8075226"
      },
      "execution_count": 7,
      "outputs": [
        {
          "output_type": "execute_result",
          "data": {
            "text/plain": [
              "1725"
            ]
          },
          "metadata": {},
          "execution_count": 7
        }
      ]
    },
    {
      "cell_type": "code",
      "source": [
        "print(train_labels[409])\n",
        "print(train_labels[410])\n",
        "print(train_labels[696])\n",
        "print(train_labels[1013])\n",
        "print(train_labels[1424])\n",
        "print(train_labels[0])\n",
        "\n"
      ],
      "metadata": {
        "colab": {
          "base_uri": "https://localhost:8080/"
        },
        "id": "VlZasRrSsoM0",
        "outputId": "5c10060e-469d-4464-b187-00cb5dbedf22"
      },
      "execution_count": 8,
      "outputs": [
        {
          "output_type": "stream",
          "name": "stdout",
          "text": [
            "0\n",
            "1\n",
            "2\n",
            "3\n",
            "4\n",
            "0\n"
          ]
        }
      ]
    },
    {
      "cell_type": "code",
      "source": [
        "print(train_data[0])"
      ],
      "metadata": {
        "colab": {
          "base_uri": "https://localhost:8080/"
        },
        "id": "rGxNWq21soP1",
        "outputId": "c39b5028-05f9-4570-b4f7-5cf8856ee539"
      },
      "execution_count": 9,
      "outputs": [
        {
          "output_type": "stream",
          "name": "stdout",
          "text": [
            "UK economy facing major risks The UK manufacturing sector continue face serious challenges years British Chamber Commerce BCC said The groups quarterly survey companies exports picked months  best levels years The rise came despite exchange rates cited major concern However BCC UK economy faced major risks warned growth set slow It recently forecast economic growth slow   little    Manufacturers domestic sales growth fell slightly quarter survey  firms found Employment manufacturing fell job expectations lowest level year Despite positive news export sector worrying signs manufacturing BCC said These results reinforce concern sectors persistent inability sustain recovery The outlook service sector uncertain despite increase exports orders quarter BCC noted The BCC confidence increased quarter manufacturing service sectors overall failed reach levels start  The reduced threat rate increases contributed improved confidence said The Bank England raised rates times November  August year But rates kept hold amid signs falling consumer confidence slowdown output The pressure costs margins relentless increase regulations threat higher taxes remain problems BCC director general David Frost said While consumer spending set decelerate significantly  months unlikely investment exports rise sufficiently strongly pick slack\n"
          ]
        }
      ]
    },
    {
      "cell_type": "code",
      "source": [
        "type(train_data)"
      ],
      "metadata": {
        "colab": {
          "base_uri": "https://localhost:8080/"
        },
        "id": "iSUlqfNz0Q_U",
        "outputId": "21dc6097-8abe-4542-8ee4-9bdf1ac14e53"
      },
      "execution_count": 10,
      "outputs": [
        {
          "output_type": "execute_result",
          "data": {
            "text/plain": [
              "list"
            ]
          },
          "metadata": {},
          "execution_count": 10
        }
      ]
    },
    {
      "cell_type": "markdown",
      "source": [
        "# tokenization of training data"
      ],
      "metadata": {
        "id": "oNYXb3JR3bn1"
      }
    },
    {
      "cell_type": "code",
      "source": [
        "from keras.preprocessing.text import Tokenizer\n",
        "from keras.preprocessing.sequence import pad_sequences\n",
        "import numpy as np\n",
        "\n",
        "maxlen = 100  # We will cut reviews after 100 words\n",
        "training_samples = 1380  # We will be training on 1380 samples\n",
        "validation_samples = 345  # We will be validating on 345 samples\n",
        "max_words = 10000  # We will only consider the top 10,000 words in the dataset\n",
        "\n",
        "tokenizer = Tokenizer(num_words=max_words)\n",
        "tokenizer.fit_on_texts(train_data)\n",
        "sequences = tokenizer.texts_to_sequences(train_data)\n",
        "\n",
        "word_index = tokenizer.word_index\n",
        "print('Found %s unique tokens.' % len(word_index))"
      ],
      "metadata": {
        "colab": {
          "base_uri": "https://localhost:8080/"
        },
        "id": "ttB7Ow-csoS5",
        "outputId": "01db1064-f859-4bb4-98f8-993b107ac697"
      },
      "execution_count": 11,
      "outputs": [
        {
          "output_type": "stream",
          "name": "stdout",
          "text": [
            "Found 28180 unique tokens.\n"
          ]
        }
      ]
    },
    {
      "cell_type": "code",
      "source": [
        "data = pad_sequences(sequences, maxlen=maxlen)\n",
        "labels = np.asarray(train_labels)\n",
        "print('Shape of data tensor:', data.shape)\n",
        "print('Shape of label tensor:', labels.shape)"
      ],
      "metadata": {
        "colab": {
          "base_uri": "https://localhost:8080/"
        },
        "id": "GD6Te5_t8QBr",
        "outputId": "fdcfc0fc-deb5-42ba-bd0e-4c01c0b08690"
      },
      "execution_count": 12,
      "outputs": [
        {
          "output_type": "stream",
          "name": "stdout",
          "text": [
            "Shape of data tensor: (1725, 100)\n",
            "Shape of label tensor: (1725,)\n"
          ]
        }
      ]
    },
    {
      "cell_type": "code",
      "source": [
        "data[0]"
      ],
      "metadata": {
        "colab": {
          "base_uri": "https://localhost:8080/"
        },
        "id": "48CJhwdL8nSy",
        "outputId": "d020d7dc-f04a-47f6-a90f-1f739b47dc25"
      },
      "execution_count": 13,
      "outputs": [
        {
          "output_type": "execute_result",
          "data": {
            "text/plain": [
              "array([ 634, 2709, 1909, 1353, 5728,    2,  918,  581, 6760,  961, 2916,\n",
              "       4974, 6761, 4671,  938,    1, 2106,   93,  634, 4672,  156,  305,\n",
              "        999, 1327,  354, 5728, 3385,    1, 5728,  860,  755,  354, 1353,\n",
              "         93, 2916, 1059,  439,  982,  763,  121,    1, 1910,  704,  320,\n",
              "       1707, 5320, 1480,  860,    2,    1,  119,   38,  873,  378,  188,\n",
              "        392,  962,   10,    8,  378, 1014,  385, 1574, 1909, 1246,  365,\n",
              "        860, 2107, 1205,    1,  568,  325, 3656, 7405,  305, 2917,  704,\n",
              "        453,  764,  523,  282, 5728,  115,  165,  248, 2530,    2,  724,\n",
              "        365,  211,   40, 3844,   69, 1171,  336,  999,  173, 7406, 2213,\n",
              "       1708], dtype=int32)"
            ]
          },
          "metadata": {},
          "execution_count": 13
        }
      ]
    },
    {
      "cell_type": "code",
      "source": [
        "word_index"
      ],
      "metadata": {
        "colab": {
          "base_uri": "https://localhost:8080/"
        },
        "id": "TUEUcIvz8qIw",
        "outputId": "ee29d030-5c26-4d69-f621-90be002041fc"
      },
      "execution_count": 14,
      "outputs": [
        {
          "output_type": "execute_result",
          "data": {
            "text/plain": [
              "{'the': 1,\n",
              " 'said': 2,\n",
              " 'i': 3,\n",
              " 'mr': 4,\n",
              " 'it': 5,\n",
              " 'new': 6,\n",
              " 'people': 7,\n",
              " 'but': 8,\n",
              " 'us': 9,\n",
              " 'year': 10,\n",
              " 'he': 11,\n",
              " 'years': 12,\n",
              " 'a': 13,\n",
              " 'in': 14,\n",
              " 'time': 15,\n",
              " 'we': 16,\n",
              " 'government': 17,\n",
              " 'world': 18,\n",
              " 'm': 19,\n",
              " 'told': 20,\n",
              " 'its': 21,\n",
              " 'best': 22,\n",
              " 'uk': 23,\n",
              " 'game': 24,\n",
              " 'music': 25,\n",
              " 'like': 26,\n",
              " 'bbc': 27,\n",
              " 'added': 28,\n",
              " 'number': 29,\n",
              " 'way': 30,\n",
              " 'this': 31,\n",
              " 'says': 32,\n",
              " 'market': 33,\n",
              " 'good': 34,\n",
              " 'games': 35,\n",
              " 'home': 36,\n",
              " 'and': 37,\n",
              " 'england': 38,\n",
              " 'bn': 39,\n",
              " 'set': 40,\n",
              " 'company': 41,\n",
              " 'there': 42,\n",
              " 'think': 43,\n",
              " 'going': 44,\n",
              " 'work': 45,\n",
              " 'film': 46,\n",
              " 'â£m': 47,\n",
              " 'use': 48,\n",
              " 'firm': 49,\n",
              " 'million': 50,\n",
              " 'they': 51,\n",
              " 'want': 52,\n",
              " 'week': 53,\n",
              " 'win': 54,\n",
              " 'that': 55,\n",
              " 'players': 56,\n",
              " 'public': 57,\n",
              " 'labour': 58,\n",
              " 'sales': 59,\n",
              " 'won': 60,\n",
              " 'play': 61,\n",
              " 'european': 62,\n",
              " 'news': 63,\n",
              " 'minister': 64,\n",
              " 'however': 65,\n",
              " 'technology': 66,\n",
              " 'blair': 67,\n",
              " 'expected': 68,\n",
              " 'months': 69,\n",
              " 'second': 70,\n",
              " 'group': 71,\n",
              " 'end': 72,\n",
              " 'if': 73,\n",
              " 'election': 74,\n",
              " 'british': 75,\n",
              " 'growth': 76,\n",
              " 'come': 77,\n",
              " 's': 78,\n",
              " 'deal': 79,\n",
              " 'plans': 80,\n",
              " 'wales': 81,\n",
              " 'party': 82,\n",
              " 'chief': 83,\n",
              " 'record': 84,\n",
              " 'dont': 85,\n",
              " 'firms': 86,\n",
              " 'need': 87,\n",
              " 'help': 88,\n",
              " 'economy': 89,\n",
              " 'international': 90,\n",
              " 'tv': 91,\n",
              " 'right': 92,\n",
              " 'service': 93,\n",
              " 'companies': 94,\n",
              " 'place': 95,\n",
              " 'london': 96,\n",
              " 'club': 97,\n",
              " 'report': 98,\n",
              " 'money': 99,\n",
              " 'mobile': 100,\n",
              " 'team': 101,\n",
              " 'industry': 102,\n",
              " 'users': 103,\n",
              " 'according': 104,\n",
              " 'country': 105,\n",
              " 'including': 106,\n",
              " 'â£': 107,\n",
              " 'great': 108,\n",
              " 'economic': 109,\n",
              " 'on': 110,\n",
              " 'services': 111,\n",
              " 'digital': 112,\n",
              " 'business': 113,\n",
              " 'got': 114,\n",
              " 'director': 115,\n",
              " 'future': 116,\n",
              " 'spokesman': 117,\n",
              " 'big': 118,\n",
              " 'bank': 119,\n",
              " 'day': 120,\n",
              " 'start': 121,\n",
              " 'hit': 122,\n",
              " 'net': 123,\n",
              " 'united': 124,\n",
              " 'came': 125,\n",
              " 'europe': 126,\n",
              " 'phone': 127,\n",
              " 'know': 128,\n",
              " 'one': 129,\n",
              " 'decision': 130,\n",
              " 'online': 131,\n",
              " 'law': 132,\n",
              " 'ireland': 133,\n",
              " 'im': 134,\n",
              " 'high': 135,\n",
              " 'information': 136,\n",
              " 'took': 137,\n",
              " 'nations': 138,\n",
              " 'oil': 139,\n",
              " 'month': 140,\n",
              " 'better': 141,\n",
              " 'video': 142,\n",
              " 'software': 143,\n",
              " 'figures': 144,\n",
              " 'tax': 145,\n",
              " 'as': 146,\n",
              " 'action': 147,\n",
              " 'far': 148,\n",
              " 'real': 149,\n",
              " 'national': 150,\n",
              " 'court': 151,\n",
              " 'offer': 152,\n",
              " 'brown': 153,\n",
              " 'seen': 154,\n",
              " 'life': 155,\n",
              " 'despite': 156,\n",
              " 'january': 157,\n",
              " 'final': 158,\n",
              " 'data': 159,\n",
              " 'radio': 160,\n",
              " 'given': 161,\n",
              " 'likely': 162,\n",
              " 'president': 163,\n",
              " 'away': 164,\n",
              " 'general': 165,\n",
              " 'executive': 166,\n",
              " 'saying': 167,\n",
              " 'long': 168,\n",
              " 'ms': 169,\n",
              " 'france': 170,\n",
              " 'prime': 171,\n",
              " 'look': 172,\n",
              " 'rise': 173,\n",
              " 'lot': 174,\n",
              " 'research': 175,\n",
              " 'prices': 176,\n",
              " 'office': 177,\n",
              " 'britain': 178,\n",
              " 'media': 179,\n",
              " 'case': 180,\n",
              " 'countries': 181,\n",
              " 'awards': 182,\n",
              " 'campaign': 183,\n",
              " 'called': 184,\n",
              " 'able': 185,\n",
              " 'police': 186,\n",
              " 'security': 187,\n",
              " 'times': 188,\n",
              " 'shares': 189,\n",
              " 'â£bn': 190,\n",
              " 'december': 191,\n",
              " 'internet': 192,\n",
              " 'analysts': 193,\n",
              " 'recent': 194,\n",
              " 'cup': 195,\n",
              " 'important': 196,\n",
              " 'following': 197,\n",
              " 'earlier': 198,\n",
              " 'past': 199,\n",
              " 'state': 200,\n",
              " 'yearold': 201,\n",
              " 'days': 202,\n",
              " 'all': 203,\n",
              " 'award': 204,\n",
              " 'howard': 205,\n",
              " 'half': 206,\n",
              " 'strong': 207,\n",
              " 'foreign': 208,\n",
              " 'went': 209,\n",
              " 'secretary': 210,\n",
              " 'spending': 211,\n",
              " 'player': 212,\n",
              " 'current': 213,\n",
              " 'lost': 214,\n",
              " 'later': 215,\n",
              " 'cut': 216,\n",
              " 'taking': 217,\n",
              " 'john': 218,\n",
              " 'early': 219,\n",
              " 'legal': 220,\n",
              " 'making': 221,\n",
              " 'she': 222,\n",
              " 'for': 223,\n",
              " 'you': 224,\n",
              " 'return': 225,\n",
              " 'season': 226,\n",
              " 'biggest': 227,\n",
              " 'financial': 228,\n",
              " 'house': 229,\n",
              " 'thought': 230,\n",
              " 'left': 231,\n",
              " 'change': 232,\n",
              " 'sale': 233,\n",
              " 'believe': 234,\n",
              " 'coach': 235,\n",
              " 'looking': 236,\n",
              " 'south': 237,\n",
              " 'star': 238,\n",
              " 'try': 239,\n",
              " 'rights': 240,\n",
              " 'currently': 241,\n",
              " 'major': 242,\n",
              " 'support': 243,\n",
              " 'meeting': 244,\n",
              " 'key': 245,\n",
              " 'hard': 246,\n",
              " 'scotland': 247,\n",
              " 'david': 248,\n",
              " 'control': 249,\n",
              " 'man': 250,\n",
              " 'little': 251,\n",
              " 'ahead': 252,\n",
              " 'pay': 253,\n",
              " 'personal': 254,\n",
              " 'rugby': 255,\n",
              " 'latest': 256,\n",
              " 'now': 257,\n",
              " 'played': 258,\n",
              " 'chance': 259,\n",
              " 'weeks': 260,\n",
              " 'lord': 261,\n",
              " 'run': 262,\n",
              " 'leader': 263,\n",
              " 'having': 264,\n",
              " 'working': 265,\n",
              " 'manager': 266,\n",
              " 'different': 267,\n",
              " 'mark': 268,\n",
              " 'league': 269,\n",
              " 'minutes': 270,\n",
              " 'face': 271,\n",
              " 'series': 272,\n",
              " 'taken': 273,\n",
              " 'programme': 274,\n",
              " 'michael': 275,\n",
              " 'playing': 276,\n",
              " 'access': 277,\n",
              " 'chelsea': 278,\n",
              " 'local': 279,\n",
              " 'line': 280,\n",
              " 'held': 281,\n",
              " 'problems': 282,\n",
              " 'search': 283,\n",
              " 'announced': 284,\n",
              " 'band': 285,\n",
              " 'issue': 286,\n",
              " 'eu': 287,\n",
              " 'cost': 288,\n",
              " 'include': 289,\n",
              " 'them': 290,\n",
              " 'bid': 291,\n",
              " 'things': 292,\n",
              " 'share': 293,\n",
              " 'g': 294,\n",
              " 'album': 295,\n",
              " 'job': 296,\n",
              " 'with': 297,\n",
              " 'broadband': 298,\n",
              " 'fans': 299,\n",
              " 'dollar': 300,\n",
              " 'role': 301,\n",
              " 'yukos': 302,\n",
              " 'claims': 303,\n",
              " 'released': 304,\n",
              " 'increase': 305,\n",
              " 'february': 306,\n",
              " 'members': 307,\n",
              " 'jobs': 308,\n",
              " 'sold': 309,\n",
              " 'march': 310,\n",
              " 'six': 311,\n",
              " 'at': 312,\n",
              " 'performance': 313,\n",
              " 'ministers': 314,\n",
              " 'warned': 315,\n",
              " 'means': 316,\n",
              " 'problem': 317,\n",
              " 'needed': 318,\n",
              " 'to': 319,\n",
              " 'rate': 320,\n",
              " 'price': 321,\n",
              " 'website': 322,\n",
              " 'clear': 323,\n",
              " 'political': 324,\n",
              " 'costs': 325,\n",
              " 'demand': 326,\n",
              " 'football': 327,\n",
              " 'act': 328,\n",
              " 'children': 329,\n",
              " 'statement': 330,\n",
              " 'trade': 331,\n",
              " 'lead': 332,\n",
              " 'network': 333,\n",
              " 'tuesday': 334,\n",
              " 'continue': 335,\n",
              " 'investment': 336,\n",
              " 'result': 337,\n",
              " 'match': 338,\n",
              " 'possible': 339,\n",
              " 'wednesday': 340,\n",
              " 'th': 341,\n",
              " 'mps': 342,\n",
              " 'ago': 343,\n",
              " 'sunday': 344,\n",
              " 'title': 345,\n",
              " 'injury': 346,\n",
              " 'getting': 347,\n",
              " 'thing': 348,\n",
              " 'open': 349,\n",
              " 'huge': 350,\n",
              " 'power': 351,\n",
              " 'song': 352,\n",
              " 'tory': 353,\n",
              " 'quarter': 354,\n",
              " 'worlds': 355,\n",
              " 'some': 356,\n",
              " 'allow': 357,\n",
              " 'point': 358,\n",
              " 'monday': 359,\n",
              " 'policy': 360,\n",
              " 'microsoft': 361,\n",
              " 'race': 362,\n",
              " 'available': 363,\n",
              " 'level': 364,\n",
              " 'consumer': 365,\n",
              " 'thats': 366,\n",
              " 'phones': 367,\n",
              " 'free': 368,\n",
              " 'plan': 369,\n",
              " 'global': 370,\n",
              " 'total': 371,\n",
              " 'close': 372,\n",
              " 'chairman': 373,\n",
              " 'committee': 374,\n",
              " 'site': 375,\n",
              " 'customers': 376,\n",
              " 'so': 377,\n",
              " 'rates': 378,\n",
              " 'sites': 379,\n",
              " 'union': 380,\n",
              " 'chancellor': 381,\n",
              " 'tony': 382,\n",
              " 'success': 383,\n",
              " 'sport': 384,\n",
              " 'hold': 385,\n",
              " 'reports': 386,\n",
              " 'wanted': 387,\n",
              " 'sir': 388,\n",
              " 'content': 389,\n",
              " 'forward': 390,\n",
              " 'issues': 391,\n",
              " 'november': 392,\n",
              " 'young': 393,\n",
              " 'recently': 394,\n",
              " 'films': 395,\n",
              " 'what': 396,\n",
              " 'centre': 397,\n",
              " 'cash': 398,\n",
              " 'main': 399,\n",
              " 'coming': 400,\n",
              " 'christmas': 401,\n",
              " 'victory': 402,\n",
              " 'evidence': 403,\n",
              " 'agreed': 404,\n",
              " 'web': 405,\n",
              " 'competition': 406,\n",
              " 'stock': 407,\n",
              " 'jones': 408,\n",
              " 'his': 409,\n",
              " 'running': 410,\n",
              " 'tories': 411,\n",
              " 'trying': 412,\n",
              " 'aid': 413,\n",
              " 'war': 414,\n",
              " 'head': 415,\n",
              " 'williams': 416,\n",
              " 'list': 417,\n",
              " 'boss': 418,\n",
              " 'asked': 419,\n",
              " 'human': 420,\n",
              " 'live': 421,\n",
              " 'well': 422,\n",
              " 'form': 423,\n",
              " 'winning': 424,\n",
              " 'trial': 425,\n",
              " 'goal': 426,\n",
              " 'other': 427,\n",
              " 'development': 428,\n",
              " 'city': 429,\n",
              " 'based': 430,\n",
              " 'liverpool': 431,\n",
              " 'friday': 432,\n",
              " 'euros': 433,\n",
              " 'him': 434,\n",
              " 'saw': 435,\n",
              " 'irish': 436,\n",
              " 'reported': 437,\n",
              " 'more': 438,\n",
              " 'failed': 439,\n",
              " 'shows': 440,\n",
              " 'showed': 441,\n",
              " 'late': 442,\n",
              " 'china': 443,\n",
              " 'popular': 444,\n",
              " 'out': 445,\n",
              " 'wants': 446,\n",
              " 'single': 447,\n",
              " 'health': 448,\n",
              " 'olympic': 449,\n",
              " 'comes': 450,\n",
              " 'low': 451,\n",
              " 'book': 452,\n",
              " 'higher': 453,\n",
              " 'september': 454,\n",
              " 'production': 455,\n",
              " 'led': 456,\n",
              " 'budget': 457,\n",
              " 'when': 458,\n",
              " 'small': 459,\n",
              " 'cards': 460,\n",
              " 'manchester': 461,\n",
              " 'board': 462,\n",
              " 'difficult': 463,\n",
              " 'email': 464,\n",
              " 'commission': 465,\n",
              " 'council': 466,\n",
              " 'arsenal': 467,\n",
              " 'annual': 468,\n",
              " 'rose': 469,\n",
              " 'previous': 470,\n",
              " 'fact': 471,\n",
              " 'summer': 472,\n",
              " 'test': 473,\n",
              " 'not': 474,\n",
              " 'buy': 475,\n",
              " 'consumers': 476,\n",
              " 'instead': 477,\n",
              " 'vote': 478,\n",
              " 'up': 479,\n",
              " 'profits': 480,\n",
              " 'american': 481,\n",
              " 'japan': 482,\n",
              " 'feel': 483,\n",
              " 'bill': 484,\n",
              " 'saturday': 485,\n",
              " 'show': 486,\n",
              " 'career': 487,\n",
              " 'squad': 488,\n",
              " 'thursday': 489,\n",
              " 'points': 490,\n",
              " 'version': 491,\n",
              " 'project': 492,\n",
              " 'v': 493,\n",
              " 'scottish': 494,\n",
              " 'pc': 495,\n",
              " 'hope': 496,\n",
              " 'fall': 497,\n",
              " 'italy': 498,\n",
              " 'release': 499,\n",
              " 'mean': 500,\n",
              " 'york': 501,\n",
              " 'governments': 502,\n",
              " 'paul': 503,\n",
              " 'october': 504,\n",
              " 'russian': 505,\n",
              " 'changes': 506,\n",
              " 'launched': 507,\n",
              " 'ensure': 508,\n",
              " 'men': 509,\n",
              " 'actor': 510,\n",
              " 'devices': 511,\n",
              " 'fell': 512,\n",
              " 'giant': 513,\n",
              " 'rules': 514,\n",
              " 'received': 515,\n",
              " 'order': 516,\n",
              " 'africa': 517,\n",
              " 'prize': 518,\n",
              " 'education': 519,\n",
              " 'parties': 520,\n",
              " 'stop': 521,\n",
              " 'sure': 522,\n",
              " 'remain': 523,\n",
              " 'family': 524,\n",
              " 'sent': 525,\n",
              " 'television': 526,\n",
              " 'networks': 527,\n",
              " 'official': 528,\n",
              " 'iraq': 529,\n",
              " 'boost': 530,\n",
              " 'last': 531,\n",
              " 'groups': 532,\n",
              " 'exchange': 533,\n",
              " 'countrys': 534,\n",
              " 'involved': 535,\n",
              " 'no': 536,\n",
              " 'tour': 537,\n",
              " 'apple': 538,\n",
              " 'leading': 539,\n",
              " 'denied': 540,\n",
              " 'may': 541,\n",
              " 'debt': 542,\n",
              " 'idea': 543,\n",
              " 'robinson': 544,\n",
              " 'ball': 545,\n",
              " 'an': 546,\n",
              " 'value': 547,\n",
              " 'meet': 548,\n",
              " 'talks': 549,\n",
              " 'senior': 550,\n",
              " 'break': 551,\n",
              " 'appeal': 552,\n",
              " 'age': 553,\n",
              " 'let': 554,\n",
              " 'mp': 555,\n",
              " 'helped': 556,\n",
              " 'accused': 557,\n",
              " 'claimed': 558,\n",
              " 'turn': 559,\n",
              " 'were': 560,\n",
              " 'old': 561,\n",
              " 'chart': 562,\n",
              " 'drugs': 563,\n",
              " 'claim': 564,\n",
              " 'launch': 565,\n",
              " 'id': 566,\n",
              " 'liberal': 567,\n",
              " 'pressure': 568,\n",
              " 'dr': 569,\n",
              " 'french': 570,\n",
              " 'believes': 571,\n",
              " 'potential': 572,\n",
              " 'growing': 573,\n",
              " 'charles': 574,\n",
              " 'hopes': 575,\n",
              " 'calls': 576,\n",
              " 'black': 577,\n",
              " 'position': 578,\n",
              " 'association': 579,\n",
              " 'attacks': 580,\n",
              " 'results': 581,\n",
              " 'similar': 582,\n",
              " 'independent': 583,\n",
              " 'car': 584,\n",
              " 'choice': 585,\n",
              " 'needs': 586,\n",
              " 'proposals': 587,\n",
              " 'large': 588,\n",
              " 'today': 589,\n",
              " 'started': 590,\n",
              " 'special': 591,\n",
              " 'ban': 592,\n",
              " 'charge': 593,\n",
              " 'rock': 594,\n",
              " 'ive': 595,\n",
              " 'products': 596,\n",
              " 'press': 597,\n",
              " 'known': 598,\n",
              " 'force': 599,\n",
              " 'west': 600,\n",
              " 'school': 601,\n",
              " 'training': 602,\n",
              " 'charges': 603,\n",
              " 'provide': 604,\n",
              " 'included': 605,\n",
              " 'community': 606,\n",
              " 'private': 607,\n",
              " 'gaming': 608,\n",
              " 'street': 609,\n",
              " 'many': 610,\n",
              " 'areas': 611,\n",
              " 'singer': 612,\n",
              " 'investors': 613,\n",
              " 'admitted': 614,\n",
              " 'comments': 615,\n",
              " 'simply': 616,\n",
              " 'makes': 617,\n",
              " 'banks': 618,\n",
              " 'create': 619,\n",
              " 'didnt': 620,\n",
              " 'india': 621,\n",
              " 'situation': 622,\n",
              " 'stage': 623,\n",
              " 'happy': 624,\n",
              " 'hes': 625,\n",
              " 'beat': 626,\n",
              " 'box': 627,\n",
              " 'champions': 628,\n",
              " 'workers': 629,\n",
              " 'german': 630,\n",
              " 'weekend': 631,\n",
              " 'cuts': 632,\n",
              " 'theres': 633,\n",
              " 'sector': 634,\n",
              " 'survey': 635,\n",
              " 'target': 636,\n",
              " 'agency': 637,\n",
              " 'named': 638,\n",
              " 'short': 639,\n",
              " 'drive': 640,\n",
              " 'range': 641,\n",
              " 'laws': 642,\n",
              " 'date': 643,\n",
              " 'conference': 644,\n",
              " 'lib': 645,\n",
              " 'by': 646,\n",
              " 'officials': 647,\n",
              " 'term': 648,\n",
              " 'fraud': 649,\n",
              " 'view': 650,\n",
              " 'bring': 651,\n",
              " 'university': 652,\n",
              " 'history': 653,\n",
              " 'course': 654,\n",
              " 'immigration': 655,\n",
              " 'ukip': 656,\n",
              " 'fourth': 657,\n",
              " 'bad': 658,\n",
              " 'martin': 659,\n",
              " 'soon': 660,\n",
              " 'me': 661,\n",
              " 'of': 662,\n",
              " 'moment': 663,\n",
              " 'champion': 664,\n",
              " 'meanwhile': 665,\n",
              " 'markets': 666,\n",
              " 'concerns': 667,\n",
              " 'johnson': 668,\n",
              " 'system': 669,\n",
              " 'opportunity': 670,\n",
              " 'fight': 671,\n",
              " 'particularly': 672,\n",
              " 'seven': 673,\n",
              " 'night': 674,\n",
              " 'madrid': 675,\n",
              " 'event': 676,\n",
              " 'women': 677,\n",
              " 'athens': 678,\n",
              " 'paid': 679,\n",
              " 'authorities': 680,\n",
              " 'department': 681,\n",
              " 'bush': 682,\n",
              " 'impact': 683,\n",
              " 'fund': 684,\n",
              " 'outside': 685,\n",
              " 'takes': 686,\n",
              " 'forced': 687,\n",
              " 'standard': 688,\n",
              " 'wrong': 689,\n",
              " 'bit': 690,\n",
              " 'numbers': 691,\n",
              " 'average': 692,\n",
              " 'defence': 693,\n",
              " 'spent': 694,\n",
              " 'cant': 695,\n",
              " 'confirmed': 696,\n",
              " 'stars': 697,\n",
              " 'attack': 698,\n",
              " 'websites': 699,\n",
              " 'card': 700,\n",
              " 'body': 701,\n",
              " 'premiership': 702,\n",
              " 'love': 703,\n",
              " 'threat': 704,\n",
              " 'june': 705,\n",
              " 'decided': 706,\n",
              " 'civil': 707,\n",
              " 'bankruptcy': 708,\n",
              " 'account': 709,\n",
              " 'britains': 710,\n",
              " 'gave': 711,\n",
              " 'host': 712,\n",
              " 'stand': 713,\n",
              " 'area': 714,\n",
              " 'largest': 715,\n",
              " 'opening': 716,\n",
              " 'hours': 717,\n",
              " 'process': 718,\n",
              " 'states': 719,\n",
              " 'newspaper': 720,\n",
              " 'commons': 721,\n",
              " 'movie': 722,\n",
              " 'dvd': 723,\n",
              " 'while': 724,\n",
              " 'staff': 725,\n",
              " 'parliament': 726,\n",
              " 'poor': 727,\n",
              " 'james': 728,\n",
              " 'technologies': 729,\n",
              " 'turned': 730,\n",
              " 'shot': 731,\n",
              " 'download': 732,\n",
              " 'analyst': 733,\n",
              " 'google': 734,\n",
              " 'gold': 735,\n",
              " 'raise': 736,\n",
              " 'gordon': 737,\n",
              " 'virus': 738,\n",
              " 'schools': 739,\n",
              " 'sony': 740,\n",
              " 'brought': 741,\n",
              " 'sell': 742,\n",
              " 'credit': 743,\n",
              " 'step': 744,\n",
              " 'track': 745,\n",
              " 'reached': 746,\n",
              " 'member': 747,\n",
              " 'gone': 748,\n",
              " 'smith': 749,\n",
              " 'concerned': 750,\n",
              " 'systems': 751,\n",
              " 'bt': 752,\n",
              " 'missed': 753,\n",
              " 'captain': 754,\n",
              " 'increased': 755,\n",
              " 'signed': 756,\n",
              " 'revealed': 757,\n",
              " 'extra': 758,\n",
              " 'challenge': 759,\n",
              " 'society': 760,\n",
              " 'shown': 761,\n",
              " 'experience': 762,\n",
              " 'levels': 763,\n",
              " 'taxes': 764,\n",
              " 'remains': 765,\n",
              " 'leave': 766,\n",
              " 'stay': 767,\n",
              " 'april': 768,\n",
              " 'insisted': 769,\n",
              " 'ways': 770,\n",
              " 'windows': 771,\n",
              " 'songs': 772,\n",
              " 'air': 773,\n",
              " 'unit': 774,\n",
              " 'management': 775,\n",
              " 'double': 776,\n",
              " 'created': 777,\n",
              " 'bought': 778,\n",
              " 'battle': 779,\n",
              " 'energy': 780,\n",
              " 'lower': 781,\n",
              " 'widely': 782,\n",
              " 'white': 783,\n",
              " 'lives': 784,\n",
              " 'newcastle': 785,\n",
              " 'campbell': 786,\n",
              " 'cases': 787,\n",
              " 'looks': 788,\n",
              " 'winners': 789,\n",
              " 'finance': 790,\n",
              " 'focus': 791,\n",
              " 'tsunami': 792,\n",
              " 'response': 793,\n",
              " 'period': 794,\n",
              " 'critics': 795,\n",
              " 'offered': 796,\n",
              " 'do': 797,\n",
              " 'longer': 798,\n",
              " 'spend': 799,\n",
              " 'after': 800,\n",
              " 'lords': 801,\n",
              " 'images': 802,\n",
              " 'cabinet': 803,\n",
              " 'agreement': 804,\n",
              " 'looked': 805,\n",
              " 'robert': 806,\n",
              " 'files': 807,\n",
              " 'easy': 808,\n",
              " 'messages': 809,\n",
              " 'grand': 810,\n",
              " 'd': 811,\n",
              " 'domestic': 812,\n",
              " 'positive': 813,\n",
              " 'north': 814,\n",
              " 'contract': 815,\n",
              " 'argued': 816,\n",
              " 'met': 817,\n",
              " 'scheme': 818,\n",
              " 'speech': 819,\n",
              " 'weve': 820,\n",
              " 'audience': 821,\n",
              " 'zealand': 822,\n",
              " 'kilroysilk': 823,\n",
              " 'although': 824,\n",
              " 'russia': 825,\n",
              " 'original': 826,\n",
              " 'followed': 827,\n",
              " 'terms': 828,\n",
              " 'details': 829,\n",
              " 'too': 830,\n",
              " 'worked': 831,\n",
              " 'my': 832,\n",
              " 'both': 833,\n",
              " 'clubs': 834,\n",
              " 'euro': 835,\n",
              " 'majority': 836,\n",
              " 'rest': 837,\n",
              " 'believed': 838,\n",
              " 'example': 839,\n",
              " 'mike': 840,\n",
              " 'uks': 841,\n",
              " 'message': 842,\n",
              " 'seconds': 843,\n",
              " 'again': 844,\n",
              " 'artists': 845,\n",
              " 'organisation': 846,\n",
              " 'previously': 847,\n",
              " 'worth': 848,\n",
              " 'compared': 849,\n",
              " 'deutsche': 850,\n",
              " 'fear': 851,\n",
              " 'program': 852,\n",
              " 'illegal': 853,\n",
              " 'individual': 854,\n",
              " 'particular': 855,\n",
              " 'story': 856,\n",
              " 'road': 857,\n",
              " 'voters': 858,\n",
              " 'comedy': 859,\n",
              " 'confidence': 860,\n",
              " 'central': 861,\n",
              " 'america': 862,\n",
              " 'build': 863,\n",
              " 'keen': 864,\n",
              " 'andy': 865,\n",
              " 'alan': 866,\n",
              " 'winner': 867,\n",
              " 'quality': 868,\n",
              " 'debate': 869,\n",
              " 'pop': 870,\n",
              " 'students': 871,\n",
              " 'indoor': 872,\n",
              " 'raised': 873,\n",
              " 'federal': 874,\n",
              " 'p': 875,\n",
              " 'allowed': 876,\n",
              " 'field': 877,\n",
              " 'accounts': 878,\n",
              " 'giving': 879,\n",
              " 'talk': 880,\n",
              " 'criminal': 881,\n",
              " 'east': 882,\n",
              " 'pcs': 883,\n",
              " 'debut': 884,\n",
              " 'approach': 885,\n",
              " 'labours': 886,\n",
              " 'matter': 887,\n",
              " 'english': 888,\n",
              " 'tough': 889,\n",
              " 'designed': 890,\n",
              " 'death': 891,\n",
              " 'sides': 892,\n",
              " 'figure': 893,\n",
              " 'ferguson': 894,\n",
              " 'crime': 895,\n",
              " 'before': 896,\n",
              " 'attempt': 897,\n",
              " 'minute': 898,\n",
              " 'conservative': 899,\n",
              " 'cross': 900,\n",
              " 'ceremony': 901,\n",
              " 'penalty': 902,\n",
              " 'watch': 903,\n",
              " 'blunkett': 904,\n",
              " 'risk': 905,\n",
              " 'significant': 906,\n",
              " 'ability': 907,\n",
              " 'probably': 908,\n",
              " 'effort': 909,\n",
              " 'speed': 910,\n",
              " 'confident': 911,\n",
              " 'richard': 912,\n",
              " 'social': 913,\n",
              " 'parents': 914,\n",
              " 'entertainment': 915,\n",
              " 'is': 916,\n",
              " 'park': 917,\n",
              " 'these': 918,\n",
              " 'actually': 919,\n",
              " 'moved': 920,\n",
              " 'dropped': 921,\n",
              " 'j': 922,\n",
              " 'light': 923,\n",
              " 'protection': 924,\n",
              " 'computers': 925,\n",
              " 'viewers': 926,\n",
              " 'profit': 927,\n",
              " 'trading': 928,\n",
              " 'began': 929,\n",
              " 'especially': 930,\n",
              " 'millions': 931,\n",
              " 'titles': 932,\n",
              " 'our': 933,\n",
              " 'welsh': 934,\n",
              " 'described': 935,\n",
              " 'poll': 936,\n",
              " 'asylum': 937,\n",
              " 'recovery': 938,\n",
              " 'nearly': 939,\n",
              " 'rival': 940,\n",
              " 'planning': 941,\n",
              " 'stake': 942,\n",
              " 'massive': 943,\n",
              " 'germany': 944,\n",
              " 'decisions': 945,\n",
              " 'japanese': 946,\n",
              " 'hand': 947,\n",
              " 'pair': 948,\n",
              " 'generation': 949,\n",
              " 'chinese': 950,\n",
              " 'favourite': 951,\n",
              " 'here': 952,\n",
              " 'politics': 953,\n",
              " 'actress': 954,\n",
              " 'portable': 955,\n",
              " 'speculation': 956,\n",
              " 'rising': 957,\n",
              " 'near': 958,\n",
              " 'controversial': 959,\n",
              " 'person': 960,\n",
              " 'concern': 961,\n",
              " 'august': 962,\n",
              " 'ask': 963,\n",
              " 'question': 964,\n",
              " 'affected': 965,\n",
              " 'changed': 966,\n",
              " 'suggested': 967,\n",
              " 'guilty': 968,\n",
              " 'disaster': 969,\n",
              " 'down': 970,\n",
              " 'thousands': 971,\n",
              " 'row': 972,\n",
              " 'clarke': 973,\n",
              " 'aimed': 974,\n",
              " 'rule': 975,\n",
              " 'certainly': 976,\n",
              " 'experts': 977,\n",
              " 'lions': 978,\n",
              " 'machines': 979,\n",
              " 'musical': 980,\n",
              " 'machine': 981,\n",
              " 'reach': 982,\n",
              " 'shareholders': 983,\n",
              " 'adding': 984,\n",
              " 'indian': 985,\n",
              " 'stadium': 986,\n",
              " 'closed': 987,\n",
              " 'effect': 988,\n",
              " 'ready': 989,\n",
              " 'australia': 990,\n",
              " 'judge': 991,\n",
              " 'care': 992,\n",
              " 'appear': 993,\n",
              " 'leicester': 994,\n",
              " 'steve': 995,\n",
              " 'nominations': 996,\n",
              " 'kelly': 997,\n",
              " 'hunting': 998,\n",
              " 'exports': 999,\n",
              " 'thomas': 1000,\n",
              " ...}"
            ]
          },
          "metadata": {},
          "execution_count": 14
        }
      ]
    },
    {
      "cell_type": "markdown",
      "source": [
        "# Split the data into a training set and a validation set"
      ],
      "metadata": {
        "id": "iaGCG_7f3j0-"
      }
    },
    {
      "cell_type": "code",
      "source": [
        "# Split the data into a training set and a validation set\n",
        "# But first, shuffle the data, since we started from data\n",
        "# where sample are ordered (all negative first, then all positive).\n",
        "indices = np.arange(data.shape[0])\n",
        "np.random.shuffle(indices)\n",
        "data = data[indices]\n",
        "labels = labels[indices]\n",
        "\n",
        "x_train = data[:training_samples]\n",
        "y_train = labels[:training_samples]\n",
        "x_val = data[training_samples: training_samples + validation_samples]\n",
        "y_val = labels[training_samples: training_samples + validation_samples]"
      ],
      "metadata": {
        "id": "DWicQ4c582-_"
      },
      "execution_count": 15,
      "outputs": []
    },
    {
      "cell_type": "code",
      "source": [
        "#get spread of classes in train\n",
        "unique, count = np.unique(y_train, return_counts=True)\n",
        "print(unique)\n",
        "print(count)"
      ],
      "metadata": {
        "colab": {
          "base_uri": "https://localhost:8080/"
        },
        "id": "vYQRBisg9oTc",
        "outputId": "13ca242b-d8ce-4ffd-bd29-d6abe2750469"
      },
      "execution_count": 16,
      "outputs": [
        {
          "output_type": "stream",
          "name": "stdout",
          "text": [
            "[0 1 2 3 4]\n",
            "[324 236 260 324 236]\n"
          ]
        }
      ]
    },
    {
      "cell_type": "markdown",
      "source": [
        "# Creating simple model without pretrain"
      ],
      "metadata": {
        "id": "coNvG8tRGLkP"
      }
    },
    {
      "cell_type": "code",
      "source": [
        "from keras.models import Sequential\n",
        "from keras.layers import Embedding, Flatten, Dense\n",
        "\n",
        "model = Sequential()\n",
        "model.add(Embedding(max_words, 64, input_length=maxlen))\n",
        "model.add(Flatten())\n",
        "\n",
        "model.add(Dense(32, activation='relu'))\n",
        "model.add(Dense(16, activation='relu'))\n",
        "model.add(Dense(5, activation='softmax'))\n",
        "model.compile(optimizer='rmsprop', loss='sparse_categorical_crossentropy', metrics=['acc'])\n",
        "model.summary()"
      ],
      "metadata": {
        "colab": {
          "base_uri": "https://localhost:8080/"
        },
        "id": "eoYEwAB8GQpN",
        "outputId": "6b8c118b-0508-42d3-bf8a-46b96acca6c5"
      },
      "execution_count": 17,
      "outputs": [
        {
          "output_type": "stream",
          "name": "stdout",
          "text": [
            "Model: \"sequential\"\n",
            "_________________________________________________________________\n",
            " Layer (type)                Output Shape              Param #   \n",
            "=================================================================\n",
            " embedding (Embedding)       (None, 100, 64)           640000    \n",
            "                                                                 \n",
            " flatten (Flatten)           (None, 6400)              0         \n",
            "                                                                 \n",
            " dense (Dense)               (None, 32)                204832    \n",
            "                                                                 \n",
            " dense_1 (Dense)             (None, 16)                528       \n",
            "                                                                 \n",
            " dense_2 (Dense)             (None, 5)                 85        \n",
            "                                                                 \n",
            "=================================================================\n",
            "Total params: 845,445\n",
            "Trainable params: 845,445\n",
            "Non-trainable params: 0\n",
            "_________________________________________________________________\n"
          ]
        }
      ]
    },
    {
      "cell_type": "code",
      "source": [
        "print(x_train.shape, x_val.shape)\n",
        "print(y_train.shape, y_val.shape)"
      ],
      "metadata": {
        "colab": {
          "base_uri": "https://localhost:8080/"
        },
        "id": "5PRhhjTqaEq7",
        "outputId": "c48e1b07-bce0-4d87-9215-c793bea856fa"
      },
      "execution_count": 18,
      "outputs": [
        {
          "output_type": "stream",
          "name": "stdout",
          "text": [
            "(1380, 100) (345, 100)\n",
            "(1380,) (345,)\n"
          ]
        }
      ]
    },
    {
      "cell_type": "markdown",
      "source": [
        "# fit data in model and check validation accuracy"
      ],
      "metadata": {
        "id": "ntPQhFcn3oiD"
      }
    },
    {
      "cell_type": "code",
      "source": [
        "history = model.fit(x_train, y_train,\n",
        "                    epochs=10,\n",
        "                    batch_size=32,\n",
        "                    validation_data=(x_val, y_val))"
      ],
      "metadata": {
        "colab": {
          "base_uri": "https://localhost:8080/"
        },
        "id": "M_P82BapHCN6",
        "outputId": "6f215ebd-8152-43e1-e50d-065d995168ea"
      },
      "execution_count": 19,
      "outputs": [
        {
          "output_type": "stream",
          "name": "stdout",
          "text": [
            "Epoch 1/10\n",
            "44/44 [==============================] - 4s 9ms/step - loss: 1.5512 - acc: 0.3232 - val_loss: 1.3848 - val_acc: 0.5072\n",
            "Epoch 2/10\n",
            "44/44 [==============================] - 0s 4ms/step - loss: 1.0178 - acc: 0.7449 - val_loss: 0.8579 - val_acc: 0.7507\n",
            "Epoch 3/10\n",
            "44/44 [==============================] - 0s 5ms/step - loss: 0.2648 - acc: 0.9942 - val_loss: 0.3806 - val_acc: 0.8957\n",
            "Epoch 4/10\n",
            "44/44 [==============================] - 0s 4ms/step - loss: 0.0205 - acc: 1.0000 - val_loss: 0.2445 - val_acc: 0.9217\n",
            "Epoch 5/10\n",
            "44/44 [==============================] - 0s 4ms/step - loss: 0.0017 - acc: 1.0000 - val_loss: 0.2095 - val_acc: 0.9246\n",
            "Epoch 6/10\n",
            "44/44 [==============================] - 0s 4ms/step - loss: 1.4366e-04 - acc: 1.0000 - val_loss: 0.1925 - val_acc: 0.9304\n",
            "Epoch 7/10\n",
            "44/44 [==============================] - 0s 4ms/step - loss: 1.2683e-05 - acc: 1.0000 - val_loss: 0.1956 - val_acc: 0.9275\n",
            "Epoch 8/10\n",
            "44/44 [==============================] - 0s 4ms/step - loss: 1.5561e-06 - acc: 1.0000 - val_loss: 0.2045 - val_acc: 0.9420\n",
            "Epoch 9/10\n",
            "44/44 [==============================] - 0s 4ms/step - loss: 2.8705e-07 - acc: 1.0000 - val_loss: 0.2098 - val_acc: 0.9304\n",
            "Epoch 10/10\n",
            "44/44 [==============================] - 0s 4ms/step - loss: 7.0230e-08 - acc: 1.0000 - val_loss: 0.2120 - val_acc: 0.9420\n"
          ]
        }
      ]
    },
    {
      "cell_type": "markdown",
      "source": [
        "# plotting training and validation accuracy"
      ],
      "metadata": {
        "id": "5UbR23Hn3vWd"
      }
    },
    {
      "cell_type": "code",
      "execution_count": 20,
      "metadata": {
        "id": "oVDEspIIli3L",
        "colab": {
          "base_uri": "https://localhost:8080/",
          "height": 545
        },
        "outputId": "2e09178b-b63b-42e4-cdcb-95cf59e72a1f"
      },
      "outputs": [
        {
          "output_type": "display_data",
          "data": {
            "text/plain": [
              "<Figure size 432x288 with 1 Axes>"
            ],
            "image/png": "[encoded data removed]"
          },
          "metadata": {
            "needs_background": "light"
          }
        },
        {
          "output_type": "display_data",
          "data": {
            "text/plain": [
              "<Figure size 432x288 with 1 Axes>"
            ],
            "image/png": "[encoded data removed]"
          },
          "metadata": {
            "needs_background": "light"
          }
        }
      ],
      "source": [
        "import matplotlib.pyplot as plt\n",
        "\n",
        "acc = history.history['acc']\n",
        "val_acc = history.history['val_acc']\n",
        "loss = history.history['loss']\n",
        "val_loss = history.history['val_loss']\n",
        "\n",
        "epochs = range(1, len(acc) + 1)\n",
        "\n",
        "plt.plot(epochs, acc, 'bo', label='Training acc')\n",
        "plt.plot(epochs, val_acc, 'b', label='Validation acc')\n",
        "plt.title('Training and validation accuracy')\n",
        "plt.legend()\n",
        "\n",
        "plt.figure()\n",
        "\n",
        "plt.plot(epochs, loss, 'bo', label='Training loss')\n",
        "plt.plot(epochs, val_loss, 'b', label='Validation loss')\n",
        "plt.title('Training and validation loss')\n",
        "plt.legend()\n",
        "\n",
        "plt.show()"
      ]
    },
    {
      "cell_type": "markdown",
      "source": [
        "# Preparing Test Data"
      ],
      "metadata": {
        "id": "65bMfBBRIHu-"
      }
    },
    {
      "cell_type": "code",
      "source": [
        "test_dir = os.path.join(new_base_dir, 'test')\n",
        "\n",
        "test_labels = []\n",
        "test_data = []\n",
        "\n",
        "for label_type in ['business', 'entertainment','politics', 'sport', 'tech']:\n",
        "    dir_name = os.path.join(test_dir, label_type)\n",
        "    for fname in os.listdir(dir_name):\n",
        "        if fname[-4:] == '.txt':       \n",
        "            f = open(os.path.join(dir_name, fname))        \n",
        "            a = remove_stopwords(f.read()) # removing stopwords\n",
        "            a = a.translate(remove_digits) # removing digits\n",
        "            a = a.translate(str.maketrans('', '', string.punctuation)) # removing punctuation  \n",
        "            test_data.append(a)\n",
        "            f.close()\n",
        "            if label_type == 'business':\n",
        "                test_labels.append(0)\n",
        "            elif label_type == 'entertainment':\n",
        "                test_labels.append(1)\n",
        "            elif label_type == 'politics':\n",
        "                test_labels.append(2)\n",
        "            elif label_type == 'sport':\n",
        "                test_labels.append(3)    \n",
        "            else:\n",
        "                test_labels.append(4)\n",
        "\n",
        "sequences = tokenizer.texts_to_sequences(test_data)\n",
        "x_test = pad_sequences(sequences, maxlen=maxlen)\n",
        "y_test = np.asarray(test_labels)"
      ],
      "metadata": {
        "id": "VjPPq29-IvPm"
      },
      "execution_count": 21,
      "outputs": []
    },
    {
      "cell_type": "code",
      "source": [
        "print(len(x_test))\n",
        "print(len(y_test))"
      ],
      "metadata": {
        "id": "91QvdlRbsoaV",
        "colab": {
          "base_uri": "https://localhost:8080/"
        },
        "outputId": "f295b13a-d168-4e00-9ecb-ae5f730b8c62"
      },
      "execution_count": 22,
      "outputs": [
        {
          "output_type": "stream",
          "name": "stdout",
          "text": [
            "500\n",
            "500\n"
          ]
        }
      ]
    },
    {
      "cell_type": "markdown",
      "source": [
        "# evaluating model on test data"
      ],
      "metadata": {
        "id": "l95L7iZW31W5"
      }
    },
    {
      "cell_type": "code",
      "source": [
        "model.evaluate(x_test, y_test)"
      ],
      "metadata": {
        "id": "l9okolDfJqua",
        "colab": {
          "base_uri": "https://localhost:8080/"
        },
        "outputId": "7bbda9fe-c949-42c7-ac7a-e0572ba396d8"
      },
      "execution_count": 23,
      "outputs": [
        {
          "output_type": "stream",
          "name": "stdout",
          "text": [
            "16/16 [==============================] - 0s 2ms/step - loss: 0.1582 - acc: 0.9500\n"
          ]
        },
        {
          "output_type": "execute_result",
          "data": {
            "text/plain": [
              "[0.1582261025905609, 0.949999988079071]"
            ]
          },
          "metadata": {},
          "execution_count": 23
        }
      ]
    },
    {
      "cell_type": "markdown",
      "source": [
        "# Test Accuracy = 92%"
      ],
      "metadata": {
        "id": "wGXr3TxtKBrS"
      }
    },
    {
      "cell_type": "markdown",
      "source": [
        "# Using pretrained Glove Model"
      ],
      "metadata": {
        "id": "hXjkfqHHJT8c"
      }
    },
    {
      "cell_type": "code",
      "execution_count": 24,
      "metadata": {
        "id": "M-04ZKvnli3J",
        "colab": {
          "base_uri": "https://localhost:8080/"
        },
        "outputId": "4ecb705b-b40b-432e-b413-6b9bdfc5c4f7"
      },
      "outputs": [
        {
          "output_type": "stream",
          "name": "stdout",
          "text": [
            "Found 400000 word vectors.\n"
          ]
        }
      ],
      "source": [
        "glove_dir = '/content/drive/MyDrive/Colab Notebooks/glove.6B'\n",
        "\n",
        "embeddings_index = {}\n",
        "f = open(os.path.join(glove_dir, 'glove.6B.100d.txt'))\n",
        "for line in f:\n",
        "    values = line.split()\n",
        "    word = values[0]\n",
        "    coefs = np.asarray(values[1:], dtype='float32')\n",
        "    embeddings_index[word] = coefs\n",
        "f.close()\n",
        "\n",
        "print('Found %s word vectors.' % len(embeddings_index))"
      ]
    },
    {
      "cell_type": "code",
      "source": [
        "len(word_index)"
      ],
      "metadata": {
        "id": "tzFYHeRurWXF",
        "colab": {
          "base_uri": "https://localhost:8080/"
        },
        "outputId": "9bc83cc0-1b71-47fb-e6e6-a859e67fdf64"
      },
      "execution_count": 25,
      "outputs": [
        {
          "output_type": "execute_result",
          "data": {
            "text/plain": [
              "28180"
            ]
          },
          "metadata": {},
          "execution_count": 25
        }
      ]
    },
    {
      "cell_type": "code",
      "execution_count": 26,
      "metadata": {
        "collapsed": true,
        "id": "lDsXi2oqli3K"
      },
      "outputs": [],
      "source": [
        "embedding_dim = 100\n",
        "\n",
        "embedding_matrix = np.zeros((max_words, embedding_dim))\n",
        "for word, i in word_index.items():\n",
        "    embedding_vector = embeddings_index.get(word)\n",
        "    if i < max_words:\n",
        "        if embedding_vector is not None:\n",
        "            # Words not found in embedding index will be all-zeros.\n",
        "            embedding_matrix[i] = embedding_vector"
      ]
    },
    {
      "cell_type": "code",
      "source": [
        "embedding_matrix[2000]"
      ],
      "metadata": {
        "id": "tfMoa0DYwWqb",
        "colab": {
          "base_uri": "https://localhost:8080/"
        },
        "outputId": "6823969b-4566-4517-bc7b-2a3872b1d651"
      },
      "execution_count": 27,
      "outputs": [
        {
          "output_type": "execute_result",
          "data": {
            "text/plain": [
              "array([ 0.39243001, -0.021736  , -0.086949  ,  0.18288   , -0.10802   ,\n",
              "       -0.32512   , -0.33881   ,  0.28652999,  0.11288   , -0.20399   ,\n",
              "        0.25962999,  0.8003    ,  0.072678  ,  0.61192   ,  0.01557   ,\n",
              "       -0.74147999, -0.074433  ,  0.25951001,  0.43291   ,  0.19305   ,\n",
              "       -0.75418001,  0.11783   , -0.23720001,  0.99037999, -0.36273   ,\n",
              "       -0.64504999, -0.56847   , -0.62812001, -0.50446999, -0.38536   ,\n",
              "        0.84289998,  0.18189   , -0.45210001, -0.38490999, -0.36796001,\n",
              "        0.42899999,  0.24612001,  0.11744   , -0.46342999, -0.38428   ,\n",
              "        0.22799   ,  0.069995  , -0.11054   ,  0.40669999, -0.19937   ,\n",
              "       -0.47464001, -0.37696001, -0.66829997,  0.032884  , -0.59792   ,\n",
              "       -0.14269   ,  0.15245   ,  0.26383001,  0.7069    ,  0.093431  ,\n",
              "       -0.60867   ,  0.19171999, -1.26300001,  2.11129999,  0.55993003,\n",
              "        0.30873001, -0.39096001, -0.058056  , -0.39776   ,  0.66377002,\n",
              "       -0.27748999,  0.21975   ,  0.39133999,  1.18009996, -0.96605003,\n",
              "       -0.22015999, -0.56181997, -0.25003999,  0.26526001,  0.44709   ,\n",
              "        0.19467001,  0.072357  ,  0.22754   , -0.90083998,  0.30085999,\n",
              "        1.22669995,  0.54679   ,  0.15347999, -1.15030003, -1.6494    ,\n",
              "       -0.32097   , -0.18116   , -0.05704   , -0.46972001, -0.45139   ,\n",
              "       -0.8193    ,  0.12885   , -0.24777   , -0.64358002, -0.063122  ,\n",
              "       -0.21528   ,  1.13139999,  0.90091002,  0.99232   , -1.02900004])"
            ]
          },
          "metadata": {},
          "execution_count": 27
        }
      ]
    },
    {
      "cell_type": "code",
      "execution_count": 28,
      "metadata": {
        "id": "FJX3LQKVli3K",
        "colab": {
          "base_uri": "https://localhost:8080/"
        },
        "outputId": "df32d977-2cfa-4103-c535-0f2122233658"
      },
      "outputs": [
        {
          "output_type": "stream",
          "name": "stdout",
          "text": [
            "Model: \"sequential_1\"\n",
            "_________________________________________________________________\n",
            " Layer (type)                Output Shape              Param #   \n",
            "=================================================================\n",
            " embedding_1 (Embedding)     (None, 100, 100)          1000000   \n",
            "                                                                 \n",
            " flatten_1 (Flatten)         (None, 10000)             0         \n",
            "                                                                 \n",
            " dense_3 (Dense)             (None, 32)                320032    \n",
            "                                                                 \n",
            " dense_4 (Dense)             (None, 16)                528       \n",
            "                                                                 \n",
            " dense_5 (Dense)             (None, 5)                 85        \n",
            "                                                                 \n",
            "=================================================================\n",
            "Total params: 1,320,645\n",
            "Trainable params: 1,320,645\n",
            "Non-trainable params: 0\n",
            "_________________________________________________________________\n"
          ]
        }
      ],
      "source": [
        "from keras.models import Sequential\n",
        "from keras.layers import Embedding, Flatten, Dense\n",
        "\n",
        "glove_model = Sequential()\n",
        "glove_model.add(Embedding(max_words, embedding_dim, input_length=maxlen))\n",
        "glove_model.add(Flatten())\n",
        "glove_model.add(Dense(32, activation='relu'))\n",
        "glove_model.add(Dense(16, activation='relu'))\n",
        "glove_model.add(Dense(5, activation='softmax'))\n",
        "glove_model.summary()"
      ]
    },
    {
      "cell_type": "code",
      "execution_count": 29,
      "metadata": {
        "collapsed": true,
        "id": "3JN_TvkPli3L"
      },
      "outputs": [],
      "source": [
        "glove_model.layers[0].set_weights([embedding_matrix])\n",
        "glove_model.layers[0].trainable = False"
      ]
    },
    {
      "cell_type": "code",
      "source": [
        "print(x_train.shape, x_val.shape)\n",
        "print(y_train.shape, y_val.shape)"
      ],
      "metadata": {
        "id": "xyd4G18YD5Gp",
        "colab": {
          "base_uri": "https://localhost:8080/"
        },
        "outputId": "8f4fddf6-56fb-45fc-9656-70fc7ea2b913"
      },
      "execution_count": 30,
      "outputs": [
        {
          "output_type": "stream",
          "name": "stdout",
          "text": [
            "(1380, 100) (345, 100)\n",
            "(1380,) (345,)\n"
          ]
        }
      ]
    },
    {
      "cell_type": "code",
      "execution_count": 31,
      "metadata": {
        "id": "cuLjrNE3li3L",
        "colab": {
          "base_uri": "https://localhost:8080/"
        },
        "outputId": "2906fc5e-5744-4137-885a-890ad0950bfa"
      },
      "outputs": [
        {
          "output_type": "stream",
          "name": "stdout",
          "text": [
            "Epoch 1/10\n",
            "44/44 [==============================] - 1s 7ms/step - loss: 0.8165 - accuracy: 0.7007 - val_loss: 0.3046 - val_accuracy: 0.8899\n",
            "Epoch 2/10\n",
            "44/44 [==============================] - 0s 3ms/step - loss: 0.0987 - accuracy: 0.9717 - val_loss: 0.2653 - val_accuracy: 0.9014\n",
            "Epoch 3/10\n",
            "44/44 [==============================] - 0s 4ms/step - loss: 0.0201 - accuracy: 0.9978 - val_loss: 0.2416 - val_accuracy: 0.9072\n",
            "Epoch 4/10\n",
            "44/44 [==============================] - 0s 4ms/step - loss: 0.0081 - accuracy: 0.9986 - val_loss: 0.2937 - val_accuracy: 0.9043\n",
            "Epoch 5/10\n",
            "44/44 [==============================] - 0s 3ms/step - loss: 0.0050 - accuracy: 1.0000 - val_loss: 0.2516 - val_accuracy: 0.9072\n",
            "Epoch 6/10\n",
            "44/44 [==============================] - 0s 4ms/step - loss: 0.0030 - accuracy: 1.0000 - val_loss: 0.2456 - val_accuracy: 0.9072\n",
            "Epoch 7/10\n",
            "44/44 [==============================] - 0s 3ms/step - loss: 0.0023 - accuracy: 1.0000 - val_loss: 0.2439 - val_accuracy: 0.9130\n",
            "Epoch 8/10\n",
            "44/44 [==============================] - 0s 3ms/step - loss: 0.0018 - accuracy: 1.0000 - val_loss: 0.2518 - val_accuracy: 0.9072\n",
            "Epoch 9/10\n",
            "44/44 [==============================] - 0s 3ms/step - loss: 0.0015 - accuracy: 1.0000 - val_loss: 0.2520 - val_accuracy: 0.9072\n",
            "Epoch 10/10\n",
            "44/44 [==============================] - 0s 4ms/step - loss: 0.0012 - accuracy: 1.0000 - val_loss: 0.2530 - val_accuracy: 0.9072\n"
          ]
        }
      ],
      "source": [
        "glove_model.compile(loss='sparse_categorical_crossentropy',\n",
        "              optimizer='adam',\n",
        "              metrics=['accuracy'])\n",
        "history = glove_model.fit(x_train, y_train,\n",
        "                    epochs=10,\n",
        "                    batch_size=32,\n",
        "                    validation_data=(x_val, y_val))\n",
        "glove_model.save_weights('pre_trained_glove_model.h5')"
      ]
    },
    {
      "cell_type": "code",
      "source": [
        "glove_model.evaluate(x_test, y_test)"
      ],
      "metadata": {
        "id": "vIBJZsI6LAk3",
        "colab": {
          "base_uri": "https://localhost:8080/"
        },
        "outputId": "d1f0284a-535d-494b-8116-6ad72e001554"
      },
      "execution_count": 32,
      "outputs": [
        {
          "output_type": "stream",
          "name": "stdout",
          "text": [
            "16/16 [==============================] - 0s 2ms/step - loss: 0.1878 - accuracy: 0.9440\n"
          ]
        },
        {
          "output_type": "execute_result",
          "data": {
            "text/plain": [
              "[0.18780013918876648, 0.9440000057220459]"
            ]
          },
          "metadata": {},
          "execution_count": 32
        }
      ]
    },
    {
      "cell_type": "markdown",
      "source": [
        "# After Using Glove Pretrained Model, Test Accuracy = 93.20%"
      ],
      "metadata": {
        "id": "vhZG6pnbLKYn"
      }
    },
    {
      "cell_type": "markdown",
      "source": [
        "# Classification using FastText vectorizer"
      ],
      "metadata": {
        "id": "ZH43Lhdz4aMw"
      }
    },
    {
      "cell_type": "code",
      "source": [
        "import keras\n",
        "from keras import optimizers\n",
        "from keras import backend as K\n",
        "from keras import regularizers\n",
        "from keras.models import Sequential\n",
        "from keras.layers import Dense, Activation, Dropout, Flatten\n",
        "from keras.layers import Embedding, Conv1D, MaxPooling1D, GlobalMaxPooling1D \n",
        "from keras.preprocessing import sequence\n",
        "from keras.preprocessing.text import Tokenizer\n",
        "from keras.callbacks import EarlyStopping\n",
        "\n",
        "from tqdm import tqdm\n",
        "from nltk.corpus import stopwords\n",
        "from nltk.tokenize import RegexpTokenizer \n",
        "import os, re, csv, math, codecs"
      ],
      "metadata": {
        "id": "AZEMsz4iKXJ1"
      },
      "execution_count": 33,
      "outputs": []
    },
    {
      "cell_type": "code",
      "source": [
        "\n",
        "#load embeddings\n",
        "print('loading word embeddings...')\n",
        "embeddings_index = {}\n",
        "f = codecs.open('/content/drive/MyDrive/Colab Notebooks/wiki.simple.vec', encoding='utf-8')\n",
        "for line in tqdm(f):\n",
        "    values = line.rstrip().rsplit(' ')\n",
        "    word = values[0]\n",
        "    coefs = np.asarray(values[1:], dtype='float32')\n",
        "    embeddings_index[word] = coefs\n",
        "f.close()\n",
        "print('found %s word vectors' % len(embeddings_index))\n",
        "\n",
        "\n",
        "\n",
        "#embedding matrix\n",
        "MAX_NB_WORDS = 10000\n",
        "embed_dim = 300\n",
        "\n",
        "print('preparing embedding matrix...')\n",
        "words_not_found = []\n",
        "nb_words = min(MAX_NB_WORDS, len(word_index))\n",
        "embedding_matrix = np.zeros((nb_words, embed_dim))\n",
        "for word, i in word_index.items():\n",
        "    if i >= nb_words:\n",
        "        continue\n",
        "    embedding_vector = embeddings_index.get(word)\n",
        "    if (embedding_vector is not None) and len(embedding_vector) > 0:\n",
        "        # words not found in embedding index will be all-zeros.\n",
        "        embedding_matrix[i] = embedding_vector\n",
        "    else:\n",
        "        words_not_found.append(word)\n",
        "print('number of null word embeddings: %d' % np.sum(np.sum(embedding_matrix, axis=1) == 0))\n"
      ],
      "metadata": {
        "colab": {
          "base_uri": "https://localhost:8080/"
        },
        "id": "FuDaahlGKXpE",
        "outputId": "0012a5a5-70e4-441d-cc8b-a2cd035a357b"
      },
      "execution_count": 34,
      "outputs": [
        {
          "output_type": "stream",
          "name": "stdout",
          "text": [
            "loading word embeddings...\n"
          ]
        },
        {
          "output_type": "stream",
          "name": "stderr",
          "text": [
            "111052it [00:10, 10288.38it/s]\n"
          ]
        },
        {
          "output_type": "stream",
          "name": "stdout",
          "text": [
            "found 111052 word vectors\n",
            "preparing embedding matrix...\n",
            "number of null word embeddings: 813\n"
          ]
        }
      ]
    },
    {
      "cell_type": "code",
      "source": [
        "fast_model = Sequential()\n",
        "fast_model.add(Embedding(nb_words, embed_dim,\n",
        "          weights=[embedding_matrix], input_length=maxlen, trainable=False))\n",
        "fast_model.add(Flatten())\n",
        "\n",
        "fast_model.add(Dense(16, activation='relu'))\n",
        "fast_model.add(Dense(32, activation='relu'))\n",
        "fast_model.add(Dense(5, activation='softmax'))\n",
        "fast_model.summary()\n"
      ],
      "metadata": {
        "colab": {
          "base_uri": "https://localhost:8080/"
        },
        "id": "UlTxFHbFKXrc",
        "outputId": "bd8e2d2d-2118-4f2f-8017-dcaa31122780"
      },
      "execution_count": 35,
      "outputs": [
        {
          "output_type": "stream",
          "name": "stdout",
          "text": [
            "Model: \"sequential_2\"\n",
            "_________________________________________________________________\n",
            " Layer (type)                Output Shape              Param #   \n",
            "=================================================================\n",
            " embedding_2 (Embedding)     (None, 100, 300)          3000000   \n",
            "                                                                 \n",
            " flatten_2 (Flatten)         (None, 30000)             0         \n",
            "                                                                 \n",
            " dense_6 (Dense)             (None, 16)                480016    \n",
            "                                                                 \n",
            " dense_7 (Dense)             (None, 32)                544       \n",
            "                                                                 \n",
            " dense_8 (Dense)             (None, 5)                 165       \n",
            "                                                                 \n",
            "=================================================================\n",
            "Total params: 3,480,725\n",
            "Trainable params: 480,725\n",
            "Non-trainable params: 3,000,000\n",
            "_________________________________________________________________\n"
          ]
        }
      ]
    },
    {
      "cell_type": "code",
      "source": [
        "fast_model.layers[0].set_weights([embedding_matrix])\n",
        "fast_model.layers[0].trainable = False\n",
        "fast_model.compile(loss = 'sparse_categorical_crossentropy', optimizer = 'adam', metrics = ['accuracy'])\n"
      ],
      "metadata": {
        "id": "N5MdyqIRKXt2"
      },
      "execution_count": 36,
      "outputs": []
    },
    {
      "cell_type": "code",
      "source": [
        "train_data = np.array(train_data)\n",
        "train_labels = np.array(train_labels)\n",
        "test_data = np.array(test_data)\n",
        "test_labels = np.array(test_labels)\n"
      ],
      "metadata": {
        "id": "TuO2i2pupxJz"
      },
      "execution_count": 63,
      "outputs": []
    },
    {
      "cell_type": "code",
      "source": [
        "# print(train_data.shape(), train_labels.shape())\n",
        "# print(test_data.shape(), test_labels.shape())\n",
        "type(x_train)\n",
        "print(x_train.shape)\n",
        "print(y_train.shape)\n",
        "print(x_val.shape)\n",
        "print(y_val.shape)"
      ],
      "metadata": {
        "colab": {
          "base_uri": "https://localhost:8080/"
        },
        "id": "ry35pMLzGN4L",
        "outputId": "76d2a06b-b148-422e-9b00-4f6598316802"
      },
      "execution_count": 68,
      "outputs": [
        {
          "output_type": "stream",
          "name": "stdout",
          "text": [
            "(1380, 100)\n",
            "(1380,)\n",
            "(345, 100)\n",
            "(345,)\n"
          ]
        }
      ]
    },
    {
      "cell_type": "code",
      "source": [
        "import tensorflow as tf\n",
        "\n",
        "\n",
        "tf.config.run_functions_eagerly(True)\n",
        "\n",
        "fast_model.fit(x_train, y_train,\n",
        "                    validation_data=(x_val, y_val),\n",
        "                    epochs=6,\n",
        "                    batch_size=32\n",
        "                    )"
      ],
      "metadata": {
        "colab": {
          "base_uri": "https://localhost:8080/"
        },
        "id": "WCWSPXyyL4Ga",
        "outputId": "c24557e4-774c-4e87-9017-9d94678b9409"
      },
      "execution_count": 77,
      "outputs": [
        {
          "output_type": "stream",
          "name": "stdout",
          "text": [
            "Epoch 1/6\n",
            "44/44 [==============================] - 41s 942ms/step - loss: 0.1073 - accuracy: 0.9623 - val_loss: 2.5330 - val_accuracy: 0.2087\n",
            "Epoch 2/6\n",
            "44/44 [==============================] - 1s 31ms/step - loss: 0.1085 - accuracy: 0.9587 - val_loss: 2.9563 - val_accuracy: 0.2000\n",
            "Epoch 3/6\n",
            "44/44 [==============================] - 1s 31ms/step - loss: 0.1198 - accuracy: 0.9616 - val_loss: 2.5889 - val_accuracy: 0.2551\n",
            "Epoch 4/6\n",
            "44/44 [==============================] - 2s 52ms/step - loss: 0.0966 - accuracy: 0.9659 - val_loss: 2.7928 - val_accuracy: 0.2928\n",
            "Epoch 5/6\n",
            "44/44 [==============================] - 1s 29ms/step - loss: 0.0918 - accuracy: 0.9645 - val_loss: 2.6755 - val_accuracy: 0.2174\n",
            "Epoch 6/6\n",
            "44/44 [==============================] - 2s 37ms/step - loss: 0.0906 - accuracy: 0.9616 - val_loss: 2.5609 - val_accuracy: 0.2493\n"
          ]
        },
        {
          "output_type": "execute_result",
          "data": {
            "text/plain": [
              "<keras.callbacks.History at 0x7f8f0df6f050>"
            ]
          },
          "metadata": {},
          "execution_count": 77
        }
      ]
    },
    {
      "cell_type": "code",
      "source": [
        ""
      ],
      "metadata": {
        "id": "3zVCsloFKt7X"
      },
      "execution_count": null,
      "outputs": []
    },
    {
      "cell_type": "code",
      "source": [
        "x_test.shape"
      ],
      "metadata": {
        "colab": {
          "base_uri": "https://localhost:8080/"
        },
        "id": "LcNGd_jJKh3Z",
        "outputId": "9a0abba5-160e-4761-b0ca-9a4cfcced374"
      },
      "execution_count": 84,
      "outputs": [
        {
          "output_type": "execute_result",
          "data": {
            "text/plain": [
              "(500, 100)"
            ]
          },
          "metadata": {},
          "execution_count": 84
        }
      ]
    },
    {
      "cell_type": "code",
      "source": [
        "x_test1 = x_test[:345, :]"
      ],
      "metadata": {
        "id": "-iQQ6oGrKvPo"
      },
      "execution_count": 87,
      "outputs": []
    },
    {
      "cell_type": "code",
      "source": [
        "x_test.shape"
      ],
      "metadata": {
        "colab": {
          "base_uri": "https://localhost:8080/"
        },
        "id": "RiJao00HK5V3",
        "outputId": "443cade5-630e-410a-a497-c96cc599d3ab"
      },
      "execution_count": 88,
      "outputs": [
        {
          "output_type": "execute_result",
          "data": {
            "text/plain": [
              "(345, 100)"
            ]
          },
          "metadata": {},
          "execution_count": 88
        }
      ]
    },
    {
      "cell_type": "code",
      "source": [
        "y_test.shape"
      ],
      "metadata": {
        "colab": {
          "base_uri": "https://localhost:8080/"
        },
        "id": "Sk5gKBtBKhzq",
        "outputId": "7bb3fe71-918f-44bf-bc53-8366523ddf6a"
      },
      "execution_count": 89,
      "outputs": [
        {
          "output_type": "execute_result",
          "data": {
            "text/plain": [
              "(345,)"
            ]
          },
          "metadata": {},
          "execution_count": 89
        }
      ]
    },
    {
      "cell_type": "code",
      "source": [
        "\n",
        "fast_model.evaluate(x_test1, y_test)"
      ],
      "metadata": {
        "colab": {
          "base_uri": "https://localhost:8080/"
        },
        "id": "xZUBprmSKXwW",
        "outputId": "76fdc323-36d4-4e30-b1f6-b6771e3c83e7"
      },
      "execution_count": 90,
      "outputs": [
        {
          "output_type": "stream",
          "name": "stdout",
          "text": [
            "11/11 [==============================] - 0s 11ms/step - loss: 2.7816 - accuracy: 0.1768\n"
          ]
        },
        {
          "output_type": "execute_result",
          "data": {
            "text/plain": [
              "[2.781627655029297, 0.1768115907907486]"
            ]
          },
          "metadata": {},
          "execution_count": 90
        }
      ]
    },
    {
      "cell_type": "markdown",
      "source": [
        "# Classification using word2vec vectorizer"
      ],
      "metadata": {
        "id": "VfhK6SuY4hkV"
      }
    },
    {
      "cell_type": "code",
      "source": [
        "import numpy as np\n",
        "import pandas as pd\n",
        "import seaborn as sns\n",
        "import matplotlib.pyplot as plt\n",
        "import re\n",
        "import nltk\n",
        "from sklearn.preprocessing import LabelEncoder\n",
        "from sklearn.model_selection import GridSearchCV\n",
        "from sklearn.model_selection import train_test_split\n",
        "from sklearn.feature_extraction.text import TfidfVectorizer\n",
        "from gensim.models import Word2Vec\n",
        "from sklearn.pipeline import Pipeline\n",
        "from sklearn.metrics import precision_score, recall_score, f1_score, accuracy_score\n",
        "import warnings\n",
        "\n",
        "\n",
        "data_tuples = list(zip(train_data,train_labels))\n",
        "df = pd.DataFrame(data_tuples, columns=['News','Label'])\n",
        "\n",
        "vec_model = Word2Vec(df, min_count=1)\n",
        "w2v = dict(zip(vec_model.wv.index2word, vec_model.wv.syn0))\n",
        "\n",
        "class Vectorizer(object):\n",
        "    \n",
        "    def __init__(self, vec):\n",
        "        self.vec = vec\n",
        "        self.dim = len(vec.values())\n",
        "\n",
        "    def fit(self, X, y):\n",
        "        return self\n",
        "\n",
        "    def transform(self, X):\n",
        "        return np.array([np.mean([self.vec[w] for w in words if w in self.vec] or [np.zeros(self.dim)], axis=0) for words in X])\n",
        "\n",
        "class Classifier(object):\n",
        "    \n",
        "    def __init__(self, model, param):\n",
        "        self.model = model\n",
        "        self.param = param\n",
        "        self.gs = GridSearchCV(self.model, self.param, cv=5, error_score=0, refit=True)        \n",
        "\n",
        "    def fit(self, X, y):        \n",
        "        return self.gs.fit(X, y)\n",
        "\n",
        "    def predict(self, X):\n",
        "        return self.gs.predict(X)\n",
        "\n",
        "X_train, X_test, y_train, y_test = train_test_split(df['News'], df['Label'], test_size=0.2, shuffle=True)\n",
        "clf = Pipeline([('Word2Vec vectorizer', Vectorizer(w2v)), ('Classifier', model)])\n",
        "clf.fit(X_train, y_train)\n",
        "y_pred = clf.predict(X_test)\n"
      ],
      "metadata": {
        "id": "MP5PtbdqLApD",
        "colab": {
          "base_uri": "https://localhost:8080/"
        },
        "outputId": "d40c2241-d7e0-44ee-c390-692a68e88b5a"
      },
      "execution_count": 55,
      "outputs": [
        {
          "output_type": "stream",
          "name": "stderr",
          "text": [
            "/usr/local/lib/python3.7/dist-packages/ipykernel_launcher.py:30: DeprecationWarning: Call to deprecated `syn0` (Attribute will be removed in 4.0.0, use self.wv.vectors instead).\n"
          ]
        },
        {
          "output_type": "stream",
          "name": "stdout",
          "text": [
            "44/44 [==============================] - 0s 4ms/step - loss: 2.1608 - acc: 0.2022\n"
          ]
        }
      ]
    },
    {
      "cell_type": "markdown",
      "source": [
        "# Glove Model with LSTM "
      ],
      "metadata": {
        "id": "PB9bBcXpLpQo"
      }
    },
    {
      "cell_type": "code",
      "source": [
        "from keras.layers import LSTM\n",
        "glove_model = Sequential()\n",
        "glove_model.add(Embedding(max_words, embedding_dim, input_length=maxlen))\n",
        "# glove_model.add(LSTM(16))\n",
        "glove_model.add(LSTM(32))\n",
        "glove_model.add(Dense(5, activation='softmax'))\n",
        "glove_model.summary()"
      ],
      "metadata": {
        "colab": {
          "base_uri": "https://localhost:8080/"
        },
        "id": "WmsmRsnCLtBF",
        "outputId": "bb44192c-71c5-4cb8-aa31-e68002abed1b"
      },
      "execution_count": 122,
      "outputs": [
        {
          "output_type": "stream",
          "name": "stdout",
          "text": [
            "Model: \"sequential_15\"\n",
            "_________________________________________________________________\n",
            " Layer (type)                Output Shape              Param #   \n",
            "=================================================================\n",
            " embedding_15 (Embedding)    (None, 100, 100)          1000000   \n",
            "                                                                 \n",
            " lstm_14 (LSTM)              (None, 32)                17024     \n",
            "                                                                 \n",
            " dense_17 (Dense)            (None, 5)                 165       \n",
            "                                                                 \n",
            "=================================================================\n",
            "Total params: 1,017,189\n",
            "Trainable params: 1,017,189\n",
            "Non-trainable params: 0\n",
            "_________________________________________________________________\n"
          ]
        }
      ]
    },
    {
      "cell_type": "code",
      "source": [
        "embedding_matrix.shape"
      ],
      "metadata": {
        "colab": {
          "base_uri": "https://localhost:8080/"
        },
        "id": "jUVqIzKQOH4O",
        "outputId": "5c1c50b1-e0e9-482b-f986-848dc24a780c"
      },
      "execution_count": 114,
      "outputs": [
        {
          "output_type": "execute_result",
          "data": {
            "text/plain": [
              "(10000, 300)"
            ]
          },
          "metadata": {},
          "execution_count": 114
        }
      ]
    },
    {
      "cell_type": "code",
      "source": [
        "type(glove_model)"
      ],
      "metadata": {
        "colab": {
          "base_uri": "https://localhost:8080/"
        },
        "id": "Vo1LSL8TPEEJ",
        "outputId": "f0e3d786-f751-4adc-b7d2-88ab6fe98dc7"
      },
      "execution_count": 115,
      "outputs": [
        {
          "output_type": "execute_result",
          "data": {
            "text/plain": [
              "keras.engine.sequential.Sequential"
            ]
          },
          "metadata": {},
          "execution_count": 115
        }
      ]
    },
    {
      "cell_type": "code",
      "source": [
        "# glove_model.layers[0].set_weights([embedding_matrix])\n",
        "# glove_model.layers[0].trainable = False\n",
        "\n",
        "glove_model.compile(loss='sparse_categorical_crossentropy',\n",
        "              optimizer='adam',\n",
        "              metrics=['accuracy'])\n",
        "history = glove_model.fit(x_train, y_train,\n",
        "                    epochs=10,\n",
        "                    batch_size=32,\n",
        "                    validation_data=(x_val, y_val))\n",
        "glove_model.save_weights('pre_trained_glove_model.h5')"
      ],
      "metadata": {
        "colab": {
          "base_uri": "https://localhost:8080/"
        },
        "id": "XyNAlK4dLtJR",
        "outputId": "4c668d9e-3f5e-438a-b23e-5ab9d1f294ba"
      },
      "execution_count": 123,
      "outputs": [
        {
          "output_type": "stream",
          "name": "stdout",
          "text": [
            "Epoch 1/10\n",
            "44/44 [==============================] - 2s 36ms/step - loss: 1.6047 - accuracy: 0.2326 - val_loss: 1.5960 - val_accuracy: 0.2464\n",
            "Epoch 2/10\n",
            "44/44 [==============================] - 2s 39ms/step - loss: 1.5193 - accuracy: 0.3449 - val_loss: 1.6015 - val_accuracy: 0.2319\n",
            "Epoch 3/10\n",
            "44/44 [==============================] - 2s 39ms/step - loss: 1.1468 - accuracy: 0.6949 - val_loss: 1.7609 - val_accuracy: 0.2116\n",
            "Epoch 4/10\n",
            "44/44 [==============================] - 1s 31ms/step - loss: 0.6700 - accuracy: 0.8797 - val_loss: 2.0010 - val_accuracy: 0.2058\n",
            "Epoch 5/10\n",
            "44/44 [==============================] - 1s 32ms/step - loss: 0.3755 - accuracy: 0.9471 - val_loss: 2.1908 - val_accuracy: 0.2203\n",
            "Epoch 6/10\n",
            "44/44 [==============================] - 1s 31ms/step - loss: 0.2200 - accuracy: 0.9522 - val_loss: 2.4855 - val_accuracy: 0.2116\n",
            "Epoch 7/10\n",
            "44/44 [==============================] - 1s 30ms/step - loss: 0.1589 - accuracy: 0.9580 - val_loss: 2.6047 - val_accuracy: 0.1942\n",
            "Epoch 8/10\n",
            "44/44 [==============================] - 1s 30ms/step - loss: 0.1410 - accuracy: 0.9580 - val_loss: 2.6794 - val_accuracy: 0.2290\n",
            "Epoch 9/10\n",
            "44/44 [==============================] - 1s 30ms/step - loss: 0.1263 - accuracy: 0.9594 - val_loss: 2.6936 - val_accuracy: 0.2145\n",
            "Epoch 10/10\n",
            "44/44 [==============================] - 1s 30ms/step - loss: 0.1069 - accuracy: 0.9587 - val_loss: 2.8107 - val_accuracy: 0.2435\n"
          ]
        }
      ]
    },
    {
      "cell_type": "code",
      "source": [
        "glove_model.evaluate(x_test, y_test)"
      ],
      "metadata": {
        "colab": {
          "base_uri": "https://localhost:8080/"
        },
        "id": "cZ6H5-QWMmee",
        "outputId": "15115c28-d0b9-46be-9838-b38f592b65b1"
      },
      "execution_count": 124,
      "outputs": [
        {
          "output_type": "stream",
          "name": "stdout",
          "text": [
            "11/11 [==============================] - 0s 14ms/step - loss: 2.9976 - accuracy: 0.1884\n"
          ]
        },
        {
          "output_type": "execute_result",
          "data": {
            "text/plain": [
              "[2.997629404067993, 0.18840579688549042]"
            ]
          },
          "metadata": {},
          "execution_count": 124
        }
      ]
    },
    {
      "cell_type": "markdown",
      "source": [
        "# FastText Model with LSTM "
      ],
      "metadata": {
        "id": "tfhF5WtsLuLG"
      }
    },
    {
      "cell_type": "code",
      "source": [
        "fast_model = Sequential()\n",
        "fast_model.add(Embedding(nb_words, embed_dim,\n",
        "          weights=[embedding_matrix], input_length=maxlen, trainable=False))\n",
        "# fast_model.add(Flatten())\n",
        "fast_model.add(LSTM(32))\n",
        "fast_model.add(Dense(5, activation='softmax'))\n",
        "fast_model.summary()\n",
        "\n",
        "\n",
        "fast_model.layers[0].set_weights([embedding_matrix])\n",
        "fast_model.layers[0].trainable = False\n",
        "fast_model.compile(loss = 'sparse_categorical_crossentropy', optimizer = 'adam', metrics = ['accuracy'])\n",
        "\n",
        "\n",
        "train_data = np.array(train_data)\n",
        "train_labels = np.array(train_labels)\n",
        "test_data = np.array(test_data)\n",
        "test_labels = np.array(test_labels)\n",
        "\n",
        "import tensorflow as tf\n",
        "\n",
        "\n",
        "tf.config.run_functions_eagerly(True)\n",
        "\n",
        "fast_model.fit(x_train, y_train,\n",
        "                    validation_data=(x_val, y_val),\n",
        "                    epochs=6,\n",
        "                    batch_size=32\n",
        "                    )\n",
        "\n",
        "\n",
        "fast_model.evaluate(x_test, y_test)\n"
      ],
      "metadata": {
        "colab": {
          "base_uri": "https://localhost:8080/"
        },
        "id": "zthXJo1VLyWh",
        "outputId": "d25f1bf4-fae0-4610-9a75-b0e3a160af83"
      },
      "execution_count": 125,
      "outputs": [
        {
          "output_type": "stream",
          "name": "stdout",
          "text": [
            "Model: \"sequential_16\"\n",
            "_________________________________________________________________\n",
            " Layer (type)                Output Shape              Param #   \n",
            "=================================================================\n",
            " embedding_16 (Embedding)    (None, 100, 300)          3000000   \n",
            "                                                                 \n",
            " lstm_15 (LSTM)              (None, 32)                42624     \n",
            "                                                                 \n",
            " dense_18 (Dense)            (None, 5)                 165       \n",
            "                                                                 \n",
            "=================================================================\n",
            "Total params: 3,042,789\n",
            "Trainable params: 42,789\n",
            "Non-trainable params: 3,000,000\n",
            "_________________________________________________________________\n",
            "Epoch 1/6\n",
            "44/44 [==============================] - 1s 29ms/step - loss: 1.6106 - accuracy: 0.2355 - val_loss: 1.5773 - val_accuracy: 0.3072\n",
            "Epoch 2/6\n",
            "44/44 [==============================] - 2s 37ms/step - loss: 1.5748 - accuracy: 0.2674 - val_loss: 1.5852 - val_accuracy: 0.2870\n",
            "Epoch 3/6\n",
            "44/44 [==============================] - 2s 38ms/step - loss: 1.5456 - accuracy: 0.3174 - val_loss: 1.5901 - val_accuracy: 0.2957\n",
            "Epoch 4/6\n",
            "44/44 [==============================] - 1s 28ms/step - loss: 1.5039 - accuracy: 0.3457 - val_loss: 1.6072 - val_accuracy: 0.3101\n",
            "Epoch 5/6\n",
            "44/44 [==============================] - 1s 28ms/step - loss: 1.4510 - accuracy: 0.3746 - val_loss: 1.6561 - val_accuracy: 0.2029\n",
            "Epoch 6/6\n",
            "44/44 [==============================] - 1s 29ms/step - loss: 1.3667 - accuracy: 0.4522 - val_loss: 1.7745 - val_accuracy: 0.1362\n",
            "11/11 [==============================] - 0s 16ms/step - loss: 1.7291 - accuracy: 0.2000\n"
          ]
        },
        {
          "output_type": "execute_result",
          "data": {
            "text/plain": [
              "[1.7290637493133545, 0.20000000298023224]"
            ]
          },
          "metadata": {},
          "execution_count": 125
        }
      ]
    },
    {
      "cell_type": "markdown",
      "source": [
        "# Word2Vec Model with LSTM "
      ],
      "metadata": {
        "id": "zlTZ1_E1LzfV"
      }
    },
    {
      "cell_type": "code",
      "source": [
        "import numpy as np\n",
        "import pandas as pd\n",
        "import seaborn as sns\n",
        "import matplotlib.pyplot as plt\n",
        "import re\n",
        "import nltk\n",
        "from sklearn.preprocessing import LabelEncoder\n",
        "from sklearn.model_selection import GridSearchCV\n",
        "from sklearn.model_selection import train_test_split\n",
        "from sklearn.feature_extraction.text import TfidfVectorizer\n",
        "from gensim.models import Word2Vec\n",
        "from sklearn.pipeline import Pipeline\n",
        "from sklearn.metrics import precision_score, recall_score, f1_score, accuracy_score\n",
        "import warnings\n",
        "\n",
        "\n",
        "data_tuples = list(zip(train_data,train_labels))\n",
        "df = pd.DataFrame(data_tuples, columns=['News','Label'])\n",
        "\n",
        "vec_model = Word2Vec(df, min_count=1)\n",
        "w2v = dict(zip(vec_model.wv.index2word, vec_model.wv.syn0))\n",
        "\n",
        "class Vectorizer(object):\n",
        "    \n",
        "    def __init__(self, vec):\n",
        "        self.vec = vec\n",
        "        self.dim = len(vec.values())\n",
        "\n",
        "    def fit(self, X, y):\n",
        "        return self\n",
        "\n",
        "    def transform(self, X):\n",
        "        return np.array([np.mean([self.vec[w] for w in words if w in self.vec] or [np.zeros(self.dim)], axis=0) for words in X])\n",
        "\n",
        "class Classifier(object):\n",
        "    \n",
        "    def __init__(self, model, param):\n",
        "        self.model = model\n",
        "        self.param = param\n",
        "        self.gs = GridSearchCV(self.model, self.param, cv=5, error_score=0, refit=True)        \n",
        "\n",
        "    def fit(self, X, y):        \n",
        "        return self.gs.fit(X, y)\n",
        "\n",
        "    def predict(self, X):\n",
        "        return self.gs.predict(X)\n",
        "\n",
        "X_train, X_test, y_train, y_test = train_test_split(df['News'], df['Label'], test_size=0.2, shuffle=True)\n",
        "model.add(Embedding(nb_words, embed_dim,\n",
        "           input_length=maxlen, trainable=False))\n",
        "model.add(LSTM(32))\n",
        "model.add(Dense(5, activation='softmax'))\n",
        "model.summary()\n",
        "\n",
        "\n",
        "clf = Pipeline([('Word2Vec vectorizer', Vectorizer(w2v)), ('Classifier', model)])\n",
        "clf.fit(X_train, y_train)\n",
        "y_pred = clf.predict(X_test)\n"
      ],
      "metadata": {
        "colab": {
          "base_uri": "https://localhost:8080/"
        },
        "id": "x-ac9KJrRc2z",
        "outputId": "b2ea4baf-4894-4584-9f26-5e8789f4be2d"
      },
      "execution_count": 130,
      "outputs": [
        {
          "output_type": "stream",
          "name": "stderr",
          "text": [
            "/usr/local/lib/python3.7/dist-packages/ipykernel_launcher.py:21: DeprecationWarning: Call to deprecated `syn0` (Attribute will be removed in 4.0.0, use self.wv.vectors instead).\n"
          ]
        },
        {
          "output_type": "stream",
          "name": "stdout",
          "text": [
            "Model: \"sequential\"\n",
            "_________________________________________________________________\n",
            " Layer (type)                Output Shape              Param #   \n",
            "=================================================================\n",
            " embedding (Embedding)       (None, 100, 64)           640000    \n",
            "                                                                 \n",
            " flatten (Flatten)           (None, 6400)              0         \n",
            "                                                                 \n",
            " dense (Dense)               (None, 32)                204832    \n",
            "                                                                 \n",
            " dense_1 (Dense)             (None, 16)                528       \n",
            "                                                                 \n",
            " dense_2 (Dense)             (None, 5)                 85        \n",
            "                                                                 \n",
            " embedding_17 (Embedding)    (None, 5, 300)            3000000   \n",
            "                                                                 \n",
            " lstm_17 (LSTM)              (None, 32)                42624     \n",
            "                                                                 \n",
            " dense_19 (Dense)            (None, 5)                 165       \n",
            "                                                                 \n",
            " embedding_18 (Embedding)    (None, 5, 300)            3000000   \n",
            "                                                                 \n",
            " lstm_18 (LSTM)              (None, 32)                42624     \n",
            "                                                                 \n",
            " dense_20 (Dense)            (None, 5)                 165       \n",
            "                                                                 \n",
            "=================================================================\n",
            "Total params: 6,931,023\n",
            "Trainable params: 931,023\n",
            "Non-trainable params: 6,000,000\n",
            "_________________________________________________________________\n",
            "WARNING:tensorflow:Gradients do not exist for variables ['embedding/embeddings:0', 'dense/kernel:0', 'dense/bias:0', 'dense_1/kernel:0', 'dense_1/bias:0', 'dense_2/kernel:0', 'dense_2/bias:0', 'lstm_17/lstm_cell_17/kernel:0', 'lstm_17/lstm_cell_17/recurrent_kernel:0', 'lstm_17/lstm_cell_17/bias:0', 'dense_19/kernel:0', 'dense_19/bias:0'] when minimizing the loss. If you're using `model.compile()`, did you forget to provide a `loss`argument?\n",
            " 1/44 [..............................] - ETA: 1s - loss: 1.5962 - acc: 0.3125WARNING:tensorflow:Gradients do not exist for variables ['embedding/embeddings:0', 'dense/kernel:0', 'dense/bias:0', 'dense_1/kernel:0', 'dense_1/bias:0', 'dense_2/kernel:0', 'dense_2/bias:0', 'lstm_17/lstm_cell_17/kernel:0', 'lstm_17/lstm_cell_17/recurrent_kernel:0', 'lstm_17/lstm_cell_17/bias:0', 'dense_19/kernel:0', 'dense_19/bias:0'] when minimizing the loss. If you're using `model.compile()`, did you forget to provide a `loss`argument?\n",
            "WARNING:tensorflow:Gradients do not exist for variables ['embedding/embeddings:0', 'dense/kernel:0', 'dense/bias:0', 'dense_1/kernel:0', 'dense_1/bias:0', 'dense_2/kernel:0', 'dense_2/bias:0', 'lstm_17/lstm_cell_17/kernel:0', 'lstm_17/lstm_cell_17/recurrent_kernel:0', 'lstm_17/lstm_cell_17/bias:0', 'dense_19/kernel:0', 'dense_19/bias:0'] when minimizing the loss. If you're using `model.compile()`, did you forget to provide a `loss`argument?\n",
            " 3/44 [=>............................] - ETA: 1s - loss: 1.5983 - acc: 0.2292WARNING:tensorflow:Gradients do not exist for variables ['embedding/embeddings:0', 'dense/kernel:0', 'dense/bias:0', 'dense_1/kernel:0', 'dense_1/bias:0', 'dense_2/kernel:0', 'dense_2/bias:0', 'lstm_17/lstm_cell_17/kernel:0', 'lstm_17/lstm_cell_17/recurrent_kernel:0', 'lstm_17/lstm_cell_17/bias:0', 'dense_19/kernel:0', 'dense_19/bias:0'] when minimizing the loss. If you're using `model.compile()`, did you forget to provide a `loss`argument?\n",
            "WARNING:tensorflow:Gradients do not exist for variables ['embedding/embeddings:0', 'dense/kernel:0', 'dense/bias:0', 'dense_1/kernel:0', 'dense_1/bias:0', 'dense_2/kernel:0', 'dense_2/bias:0', 'lstm_17/lstm_cell_17/kernel:0', 'lstm_17/lstm_cell_17/recurrent_kernel:0', 'lstm_17/lstm_cell_17/bias:0', 'dense_19/kernel:0', 'dense_19/bias:0'] when minimizing the loss. If you're using `model.compile()`, did you forget to provide a `loss`argument?\n",
            " 5/44 [==>...........................] - ETA: 1s - loss: 1.6050 - acc: 0.2250WARNING:tensorflow:Gradients do not exist for variables ['embedding/embeddings:0', 'dense/kernel:0', 'dense/bias:0', 'dense_1/kernel:0', 'dense_1/bias:0', 'dense_2/kernel:0', 'dense_2/bias:0', 'lstm_17/lstm_cell_17/kernel:0', 'lstm_17/lstm_cell_17/recurrent_kernel:0', 'lstm_17/lstm_cell_17/bias:0', 'dense_19/kernel:0', 'dense_19/bias:0'] when minimizing the loss. If you're using `model.compile()`, did you forget to provide a `loss`argument?\n",
            "WARNING:tensorflow:Gradients do not exist for variables ['embedding/embeddings:0', 'dense/kernel:0', 'dense/bias:0', 'dense_1/kernel:0', 'dense_1/bias:0', 'dense_2/kernel:0', 'dense_2/bias:0', 'lstm_17/lstm_cell_17/kernel:0', 'lstm_17/lstm_cell_17/recurrent_kernel:0', 'lstm_17/lstm_cell_17/bias:0', 'dense_19/kernel:0', 'dense_19/bias:0'] when minimizing the loss. If you're using `model.compile()`, did you forget to provide a `loss`argument?\n",
            " 7/44 [===>..........................] - ETA: 1s - loss: 1.6098 - acc: 0.2366WARNING:tensorflow:Gradients do not exist for variables ['embedding/embeddings:0', 'dense/kernel:0', 'dense/bias:0', 'dense_1/kernel:0', 'dense_1/bias:0', 'dense_2/kernel:0', 'dense_2/bias:0', 'lstm_17/lstm_cell_17/kernel:0', 'lstm_17/lstm_cell_17/recurrent_kernel:0', 'lstm_17/lstm_cell_17/bias:0', 'dense_19/kernel:0', 'dense_19/bias:0'] when minimizing the loss. If you're using `model.compile()`, did you forget to provide a `loss`argument?\n",
            "WARNING:tensorflow:Gradients do not exist for variables ['embedding/embeddings:0', 'dense/kernel:0', 'dense/bias:0', 'dense_1/kernel:0', 'dense_1/bias:0', 'dense_2/kernel:0', 'dense_2/bias:0', 'lstm_17/lstm_cell_17/kernel:0', 'lstm_17/lstm_cell_17/recurrent_kernel:0', 'lstm_17/lstm_cell_17/bias:0', 'dense_19/kernel:0', 'dense_19/bias:0'] when minimizing the loss. If you're using `model.compile()`, did you forget to provide a `loss`argument?\n",
            " 9/44 [=====>........................] - ETA: 1s - loss: 1.6029 - acc: 0.2604WARNING:tensorflow:Gradients do not exist for variables ['embedding/embeddings:0', 'dense/kernel:0', 'dense/bias:0', 'dense_1/kernel:0', 'dense_1/bias:0', 'dense_2/kernel:0', 'dense_2/bias:0', 'lstm_17/lstm_cell_17/kernel:0', 'lstm_17/lstm_cell_17/recurrent_kernel:0', 'lstm_17/lstm_cell_17/bias:0', 'dense_19/kernel:0', 'dense_19/bias:0'] when minimizing the loss. If you're using `model.compile()`, did you forget to provide a `loss`argument?\n",
            "WARNING:tensorflow:Gradients do not exist for variables ['embedding/embeddings:0', 'dense/kernel:0', 'dense/bias:0', 'dense_1/kernel:0', 'dense_1/bias:0', 'dense_2/kernel:0', 'dense_2/bias:0', 'lstm_17/lstm_cell_17/kernel:0', 'lstm_17/lstm_cell_17/recurrent_kernel:0', 'lstm_17/lstm_cell_17/bias:0', 'dense_19/kernel:0', 'dense_19/bias:0'] when minimizing the loss. If you're using `model.compile()`, did you forget to provide a `loss`argument?\n",
            "11/44 [======>.......................] - ETA: 1s - loss: 1.6023 - acc: 0.2557WARNING:tensorflow:Gradients do not exist for variables ['embedding/embeddings:0', 'dense/kernel:0', 'dense/bias:0', 'dense_1/kernel:0', 'dense_1/bias:0', 'dense_2/kernel:0', 'dense_2/bias:0', 'lstm_17/lstm_cell_17/kernel:0', 'lstm_17/lstm_cell_17/recurrent_kernel:0', 'lstm_17/lstm_cell_17/bias:0', 'dense_19/kernel:0', 'dense_19/bias:0'] when minimizing the loss. If you're using `model.compile()`, did you forget to provide a `loss`argument?\n",
            "WARNING:tensorflow:Gradients do not exist for variables ['embedding/embeddings:0', 'dense/kernel:0', 'dense/bias:0', 'dense_1/kernel:0', 'dense_1/bias:0', 'dense_2/kernel:0', 'dense_2/bias:0', 'lstm_17/lstm_cell_17/kernel:0', 'lstm_17/lstm_cell_17/recurrent_kernel:0', 'lstm_17/lstm_cell_17/bias:0', 'dense_19/kernel:0', 'dense_19/bias:0'] when minimizing the loss. If you're using `model.compile()`, did you forget to provide a `loss`argument?\n",
            "13/44 [=======>......................] - ETA: 1s - loss: 1.6027 - acc: 0.2524WARNING:tensorflow:Gradients do not exist for variables ['embedding/embeddings:0', 'dense/kernel:0', 'dense/bias:0', 'dense_1/kernel:0', 'dense_1/bias:0', 'dense_2/kernel:0', 'dense_2/bias:0', 'lstm_17/lstm_cell_17/kernel:0', 'lstm_17/lstm_cell_17/recurrent_kernel:0', 'lstm_17/lstm_cell_17/bias:0', 'dense_19/kernel:0', 'dense_19/bias:0'] when minimizing the loss. If you're using `model.compile()`, did you forget to provide a `loss`argument?\n",
            "WARNING:tensorflow:Gradients do not exist for variables ['embedding/embeddings:0', 'dense/kernel:0', 'dense/bias:0', 'dense_1/kernel:0', 'dense_1/bias:0', 'dense_2/kernel:0', 'dense_2/bias:0', 'lstm_17/lstm_cell_17/kernel:0', 'lstm_17/lstm_cell_17/recurrent_kernel:0', 'lstm_17/lstm_cell_17/bias:0', 'dense_19/kernel:0', 'dense_19/bias:0'] when minimizing the loss. If you're using `model.compile()`, did you forget to provide a `loss`argument?\n",
            "15/44 [=========>....................] - ETA: 1s - loss: 1.6051 - acc: 0.2458WARNING:tensorflow:Gradients do not exist for variables ['embedding/embeddings:0', 'dense/kernel:0', 'dense/bias:0', 'dense_1/kernel:0', 'dense_1/bias:0', 'dense_2/kernel:0', 'dense_2/bias:0', 'lstm_17/lstm_cell_17/kernel:0', 'lstm_17/lstm_cell_17/recurrent_kernel:0', 'lstm_17/lstm_cell_17/bias:0', 'dense_19/kernel:0', 'dense_19/bias:0'] when minimizing the loss. If you're using `model.compile()`, did you forget to provide a `loss`argument?\n",
            "WARNING:tensorflow:Gradients do not exist for variables ['embedding/embeddings:0', 'dense/kernel:0', 'dense/bias:0', 'dense_1/kernel:0', 'dense_1/bias:0', 'dense_2/kernel:0', 'dense_2/bias:0', 'lstm_17/lstm_cell_17/kernel:0', 'lstm_17/lstm_cell_17/recurrent_kernel:0', 'lstm_17/lstm_cell_17/bias:0', 'dense_19/kernel:0', 'dense_19/bias:0'] when minimizing the loss. If you're using `model.compile()`, did you forget to provide a `loss`argument?\n",
            "17/44 [==========>...................] - ETA: 1s - loss: 1.6058 - acc: 0.2426WARNING:tensorflow:Gradients do not exist for variables ['embedding/embeddings:0', 'dense/kernel:0', 'dense/bias:0', 'dense_1/kernel:0', 'dense_1/bias:0', 'dense_2/kernel:0', 'dense_2/bias:0', 'lstm_17/lstm_cell_17/kernel:0', 'lstm_17/lstm_cell_17/recurrent_kernel:0', 'lstm_17/lstm_cell_17/bias:0', 'dense_19/kernel:0', 'dense_19/bias:0'] when minimizing the loss. If you're using `model.compile()`, did you forget to provide a `loss`argument?\n",
            "WARNING:tensorflow:Gradients do not exist for variables ['embedding/embeddings:0', 'dense/kernel:0', 'dense/bias:0', 'dense_1/kernel:0', 'dense_1/bias:0', 'dense_2/kernel:0', 'dense_2/bias:0', 'lstm_17/lstm_cell_17/kernel:0', 'lstm_17/lstm_cell_17/recurrent_kernel:0', 'lstm_17/lstm_cell_17/bias:0', 'dense_19/kernel:0', 'dense_19/bias:0'] when minimizing the loss. If you're using `model.compile()`, did you forget to provide a `loss`argument?\n",
            "19/44 [===========>..................] - ETA: 0s - loss: 1.6056 - acc: 0.2368WARNING:tensorflow:Gradients do not exist for variables ['embedding/embeddings:0', 'dense/kernel:0', 'dense/bias:0', 'dense_1/kernel:0', 'dense_1/bias:0', 'dense_2/kernel:0', 'dense_2/bias:0', 'lstm_17/lstm_cell_17/kernel:0', 'lstm_17/lstm_cell_17/recurrent_kernel:0', 'lstm_17/lstm_cell_17/bias:0', 'dense_19/kernel:0', 'dense_19/bias:0'] when minimizing the loss. If you're using `model.compile()`, did you forget to provide a `loss`argument?\n",
            "WARNING:tensorflow:Gradients do not exist for variables ['embedding/embeddings:0', 'dense/kernel:0', 'dense/bias:0', 'dense_1/kernel:0', 'dense_1/bias:0', 'dense_2/kernel:0', 'dense_2/bias:0', 'lstm_17/lstm_cell_17/kernel:0', 'lstm_17/lstm_cell_17/recurrent_kernel:0', 'lstm_17/lstm_cell_17/bias:0', 'dense_19/kernel:0', 'dense_19/bias:0'] when minimizing the loss. If you're using `model.compile()`, did you forget to provide a `loss`argument?\n",
            "21/44 [=============>................] - ETA: 0s - loss: 1.6054 - acc: 0.2366WARNING:tensorflow:Gradients do not exist for variables ['embedding/embeddings:0', 'dense/kernel:0', 'dense/bias:0', 'dense_1/kernel:0', 'dense_1/bias:0', 'dense_2/kernel:0', 'dense_2/bias:0', 'lstm_17/lstm_cell_17/kernel:0', 'lstm_17/lstm_cell_17/recurrent_kernel:0', 'lstm_17/lstm_cell_17/bias:0', 'dense_19/kernel:0', 'dense_19/bias:0'] when minimizing the loss. If you're using `model.compile()`, did you forget to provide a `loss`argument?\n",
            "WARNING:tensorflow:Gradients do not exist for variables ['embedding/embeddings:0', 'dense/kernel:0', 'dense/bias:0', 'dense_1/kernel:0', 'dense_1/bias:0', 'dense_2/kernel:0', 'dense_2/bias:0', 'lstm_17/lstm_cell_17/kernel:0', 'lstm_17/lstm_cell_17/recurrent_kernel:0', 'lstm_17/lstm_cell_17/bias:0', 'dense_19/kernel:0', 'dense_19/bias:0'] when minimizing the loss. If you're using `model.compile()`, did you forget to provide a `loss`argument?\n",
            "23/44 [==============>...............] - ETA: 0s - loss: 1.6051 - acc: 0.2418WARNING:tensorflow:Gradients do not exist for variables ['embedding/embeddings:0', 'dense/kernel:0', 'dense/bias:0', 'dense_1/kernel:0', 'dense_1/bias:0', 'dense_2/kernel:0', 'dense_2/bias:0', 'lstm_17/lstm_cell_17/kernel:0', 'lstm_17/lstm_cell_17/recurrent_kernel:0', 'lstm_17/lstm_cell_17/bias:0', 'dense_19/kernel:0', 'dense_19/bias:0'] when minimizing the loss. If you're using `model.compile()`, did you forget to provide a `loss`argument?\n",
            "WARNING:tensorflow:Gradients do not exist for variables ['embedding/embeddings:0', 'dense/kernel:0', 'dense/bias:0', 'dense_1/kernel:0', 'dense_1/bias:0', 'dense_2/kernel:0', 'dense_2/bias:0', 'lstm_17/lstm_cell_17/kernel:0', 'lstm_17/lstm_cell_17/recurrent_kernel:0', 'lstm_17/lstm_cell_17/bias:0', 'dense_19/kernel:0', 'dense_19/bias:0'] when minimizing the loss. If you're using `model.compile()`, did you forget to provide a `loss`argument?\n",
            "25/44 [================>.............] - ETA: 0s - loss: 1.6044 - acc: 0.2438WARNING:tensorflow:Gradients do not exist for variables ['embedding/embeddings:0', 'dense/kernel:0', 'dense/bias:0', 'dense_1/kernel:0', 'dense_1/bias:0', 'dense_2/kernel:0', 'dense_2/bias:0', 'lstm_17/lstm_cell_17/kernel:0', 'lstm_17/lstm_cell_17/recurrent_kernel:0', 'lstm_17/lstm_cell_17/bias:0', 'dense_19/kernel:0', 'dense_19/bias:0'] when minimizing the loss. If you're using `model.compile()`, did you forget to provide a `loss`argument?\n",
            "WARNING:tensorflow:Gradients do not exist for variables ['embedding/embeddings:0', 'dense/kernel:0', 'dense/bias:0', 'dense_1/kernel:0', 'dense_1/bias:0', 'dense_2/kernel:0', 'dense_2/bias:0', 'lstm_17/lstm_cell_17/kernel:0', 'lstm_17/lstm_cell_17/recurrent_kernel:0', 'lstm_17/lstm_cell_17/bias:0', 'dense_19/kernel:0', 'dense_19/bias:0'] when minimizing the loss. If you're using `model.compile()`, did you forget to provide a `loss`argument?\n",
            "27/44 [=================>............] - ETA: 0s - loss: 1.6025 - acc: 0.2454WARNING:tensorflow:Gradients do not exist for variables ['embedding/embeddings:0', 'dense/kernel:0', 'dense/bias:0', 'dense_1/kernel:0', 'dense_1/bias:0', 'dense_2/kernel:0', 'dense_2/bias:0', 'lstm_17/lstm_cell_17/kernel:0', 'lstm_17/lstm_cell_17/recurrent_kernel:0', 'lstm_17/lstm_cell_17/bias:0', 'dense_19/kernel:0', 'dense_19/bias:0'] when minimizing the loss. If you're using `model.compile()`, did you forget to provide a `loss`argument?\n",
            "WARNING:tensorflow:Gradients do not exist for variables ['embedding/embeddings:0', 'dense/kernel:0', 'dense/bias:0', 'dense_1/kernel:0', 'dense_1/bias:0', 'dense_2/kernel:0', 'dense_2/bias:0', 'lstm_17/lstm_cell_17/kernel:0', 'lstm_17/lstm_cell_17/recurrent_kernel:0', 'lstm_17/lstm_cell_17/bias:0', 'dense_19/kernel:0', 'dense_19/bias:0'] when minimizing the loss. If you're using `model.compile()`, did you forget to provide a `loss`argument?\n",
            "29/44 [==================>...........] - ETA: 0s - loss: 1.6012 - acc: 0.2478WARNING:tensorflow:Gradients do not exist for variables ['embedding/embeddings:0', 'dense/kernel:0', 'dense/bias:0', 'dense_1/kernel:0', 'dense_1/bias:0', 'dense_2/kernel:0', 'dense_2/bias:0', 'lstm_17/lstm_cell_17/kernel:0', 'lstm_17/lstm_cell_17/recurrent_kernel:0', 'lstm_17/lstm_cell_17/bias:0', 'dense_19/kernel:0', 'dense_19/bias:0'] when minimizing the loss. If you're using `model.compile()`, did you forget to provide a `loss`argument?\n",
            "WARNING:tensorflow:Gradients do not exist for variables ['embedding/embeddings:0', 'dense/kernel:0', 'dense/bias:0', 'dense_1/kernel:0', 'dense_1/bias:0', 'dense_2/kernel:0', 'dense_2/bias:0', 'lstm_17/lstm_cell_17/kernel:0', 'lstm_17/lstm_cell_17/recurrent_kernel:0', 'lstm_17/lstm_cell_17/bias:0', 'dense_19/kernel:0', 'dense_19/bias:0'] when minimizing the loss. If you're using `model.compile()`, did you forget to provide a `loss`argument?\n",
            "31/44 [====================>.........] - ETA: 0s - loss: 1.5999 - acc: 0.2510WARNING:tensorflow:Gradients do not exist for variables ['embedding/embeddings:0', 'dense/kernel:0', 'dense/bias:0', 'dense_1/kernel:0', 'dense_1/bias:0', 'dense_2/kernel:0', 'dense_2/bias:0', 'lstm_17/lstm_cell_17/kernel:0', 'lstm_17/lstm_cell_17/recurrent_kernel:0', 'lstm_17/lstm_cell_17/bias:0', 'dense_19/kernel:0', 'dense_19/bias:0'] when minimizing the loss. If you're using `model.compile()`, did you forget to provide a `loss`argument?\n",
            "WARNING:tensorflow:Gradients do not exist for variables ['embedding/embeddings:0', 'dense/kernel:0', 'dense/bias:0', 'dense_1/kernel:0', 'dense_1/bias:0', 'dense_2/kernel:0', 'dense_2/bias:0', 'lstm_17/lstm_cell_17/kernel:0', 'lstm_17/lstm_cell_17/recurrent_kernel:0', 'lstm_17/lstm_cell_17/bias:0', 'dense_19/kernel:0', 'dense_19/bias:0'] when minimizing the loss. If you're using `model.compile()`, did you forget to provide a `loss`argument?\n",
            "33/44 [=====================>........] - ETA: 0s - loss: 1.6019 - acc: 0.2462WARNING:tensorflow:Gradients do not exist for variables ['embedding/embeddings:0', 'dense/kernel:0', 'dense/bias:0', 'dense_1/kernel:0', 'dense_1/bias:0', 'dense_2/kernel:0', 'dense_2/bias:0', 'lstm_17/lstm_cell_17/kernel:0', 'lstm_17/lstm_cell_17/recurrent_kernel:0', 'lstm_17/lstm_cell_17/bias:0', 'dense_19/kernel:0', 'dense_19/bias:0'] when minimizing the loss. If you're using `model.compile()`, did you forget to provide a `loss`argument?\n",
            "WARNING:tensorflow:Gradients do not exist for variables ['embedding/embeddings:0', 'dense/kernel:0', 'dense/bias:0', 'dense_1/kernel:0', 'dense_1/bias:0', 'dense_2/kernel:0', 'dense_2/bias:0', 'lstm_17/lstm_cell_17/kernel:0', 'lstm_17/lstm_cell_17/recurrent_kernel:0', 'lstm_17/lstm_cell_17/bias:0', 'dense_19/kernel:0', 'dense_19/bias:0'] when minimizing the loss. If you're using `model.compile()`, did you forget to provide a `loss`argument?\n",
            "35/44 [======================>.......] - ETA: 0s - loss: 1.6018 - acc: 0.2464WARNING:tensorflow:Gradients do not exist for variables ['embedding/embeddings:0', 'dense/kernel:0', 'dense/bias:0', 'dense_1/kernel:0', 'dense_1/bias:0', 'dense_2/kernel:0', 'dense_2/bias:0', 'lstm_17/lstm_cell_17/kernel:0', 'lstm_17/lstm_cell_17/recurrent_kernel:0', 'lstm_17/lstm_cell_17/bias:0', 'dense_19/kernel:0', 'dense_19/bias:0'] when minimizing the loss. If you're using `model.compile()`, did you forget to provide a `loss`argument?\n",
            "WARNING:tensorflow:Gradients do not exist for variables ['embedding/embeddings:0', 'dense/kernel:0', 'dense/bias:0', 'dense_1/kernel:0', 'dense_1/bias:0', 'dense_2/kernel:0', 'dense_2/bias:0', 'lstm_17/lstm_cell_17/kernel:0', 'lstm_17/lstm_cell_17/recurrent_kernel:0', 'lstm_17/lstm_cell_17/bias:0', 'dense_19/kernel:0', 'dense_19/bias:0'] when minimizing the loss. If you're using `model.compile()`, did you forget to provide a `loss`argument?\n",
            "37/44 [========================>.....] - ETA: 0s - loss: 1.6013 - acc: 0.2475WARNING:tensorflow:Gradients do not exist for variables ['embedding/embeddings:0', 'dense/kernel:0', 'dense/bias:0', 'dense_1/kernel:0', 'dense_1/bias:0', 'dense_2/kernel:0', 'dense_2/bias:0', 'lstm_17/lstm_cell_17/kernel:0', 'lstm_17/lstm_cell_17/recurrent_kernel:0', 'lstm_17/lstm_cell_17/bias:0', 'dense_19/kernel:0', 'dense_19/bias:0'] when minimizing the loss. If you're using `model.compile()`, did you forget to provide a `loss`argument?\n",
            "WARNING:tensorflow:Gradients do not exist for variables ['embedding/embeddings:0', 'dense/kernel:0', 'dense/bias:0', 'dense_1/kernel:0', 'dense_1/bias:0', 'dense_2/kernel:0', 'dense_2/bias:0', 'lstm_17/lstm_cell_17/kernel:0', 'lstm_17/lstm_cell_17/recurrent_kernel:0', 'lstm_17/lstm_cell_17/bias:0', 'dense_19/kernel:0', 'dense_19/bias:0'] when minimizing the loss. If you're using `model.compile()`, did you forget to provide a `loss`argument?\n",
            "39/44 [=========================>....] - ETA: 0s - loss: 1.5996 - acc: 0.2524WARNING:tensorflow:Gradients do not exist for variables ['embedding/embeddings:0', 'dense/kernel:0', 'dense/bias:0', 'dense_1/kernel:0', 'dense_1/bias:0', 'dense_2/kernel:0', 'dense_2/bias:0', 'lstm_17/lstm_cell_17/kernel:0', 'lstm_17/lstm_cell_17/recurrent_kernel:0', 'lstm_17/lstm_cell_17/bias:0', 'dense_19/kernel:0', 'dense_19/bias:0'] when minimizing the loss. If you're using `model.compile()`, did you forget to provide a `loss`argument?\n",
            "WARNING:tensorflow:Gradients do not exist for variables ['embedding/embeddings:0', 'dense/kernel:0', 'dense/bias:0', 'dense_1/kernel:0', 'dense_1/bias:0', 'dense_2/kernel:0', 'dense_2/bias:0', 'lstm_17/lstm_cell_17/kernel:0', 'lstm_17/lstm_cell_17/recurrent_kernel:0', 'lstm_17/lstm_cell_17/bias:0', 'dense_19/kernel:0', 'dense_19/bias:0'] when minimizing the loss. If you're using `model.compile()`, did you forget to provide a `loss`argument?\n",
            "41/44 [==========================>...] - ETA: 0s - loss: 1.5990 - acc: 0.2508WARNING:tensorflow:Gradients do not exist for variables ['embedding/embeddings:0', 'dense/kernel:0', 'dense/bias:0', 'dense_1/kernel:0', 'dense_1/bias:0', 'dense_2/kernel:0', 'dense_2/bias:0', 'lstm_17/lstm_cell_17/kernel:0', 'lstm_17/lstm_cell_17/recurrent_kernel:0', 'lstm_17/lstm_cell_17/bias:0', 'dense_19/kernel:0', 'dense_19/bias:0'] when minimizing the loss. If you're using `model.compile()`, did you forget to provide a `loss`argument?\n",
            "WARNING:tensorflow:Gradients do not exist for variables ['embedding/embeddings:0', 'dense/kernel:0', 'dense/bias:0', 'dense_1/kernel:0', 'dense_1/bias:0', 'dense_2/kernel:0', 'dense_2/bias:0', 'lstm_17/lstm_cell_17/kernel:0', 'lstm_17/lstm_cell_17/recurrent_kernel:0', 'lstm_17/lstm_cell_17/bias:0', 'dense_19/kernel:0', 'dense_19/bias:0'] when minimizing the loss. If you're using `model.compile()`, did you forget to provide a `loss`argument?\n",
            "43/44 [============================>.] - ETA: 0s - loss: 1.6006 - acc: 0.2464WARNING:tensorflow:Gradients do not exist for variables ['embedding/embeddings:0', 'dense/kernel:0', 'dense/bias:0', 'dense_1/kernel:0', 'dense_1/bias:0', 'dense_2/kernel:0', 'dense_2/bias:0', 'lstm_17/lstm_cell_17/kernel:0', 'lstm_17/lstm_cell_17/recurrent_kernel:0', 'lstm_17/lstm_cell_17/bias:0', 'dense_19/kernel:0', 'dense_19/bias:0'] when minimizing the loss. If you're using `model.compile()`, did you forget to provide a `loss`argument?\n",
            "44/44 [==============================] - 2s 38ms/step - loss: 1.6006 - acc: 0.2464\n"
          ]
        }
      ]
    },
    {
      "cell_type": "markdown",
      "source": [
        "# Accuracies of different models\n",
        "\n",
        "# Simple model without pretrain = 92%\n",
        "\n",
        "# With Glove pretrain = 93.20%\n",
        "\n",
        "\n",
        "# With FastText Pretrained = 24%\n",
        "\n",
        "# With Word2Vec Pretrained = 20%\n",
        "\n",
        "\n",
        "# Glove model with LSTM = 24 %# \n",
        "\n",
        "# FastText model with LSTM = 18%\n",
        "\n",
        "# Word2Vec model with LSTM = 30%\n",
        "\n"
      ],
      "metadata": {
        "id": "R058tzp-UKZ2"
      }
    },
    {
      "cell_type": "markdown",
      "source": [
        "# Here after the results Pretrained glove model is giving best accuracty in my case"
      ],
      "metadata": {
        "id": "fF46PNTIUbH8"
      }
    }
  ],
  "metadata": {
    "kernelspec": {
      "display_name": "Python 3",
      "language": "python",
      "name": "python3"
    },
    "language_info": {
      "codemirror_mode": {
        "name": "ipython",
        "version": 3
      },
      "file_extension": ".py",
      "mimetype": "text/x-python",
      "name": "python",
      "nbconvert_exporter": "python",
      "pygments_lexer": "ipython3",
      "version": "3.5.2"
    },
    "colab": {
      "name": "ML_Assignment_05_021-19-0029.ipynb",
      "provenance": [],
      "collapsed_sections": []
    },
    "accelerator": "GPU",
    "gpuClass": "standard"
  },
  "nbformat": 4,
  "nbformat_minor": 0
}